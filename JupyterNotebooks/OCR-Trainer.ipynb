{
 "cells": [
  {
   "cell_type": "code",
   "execution_count": null,
   "metadata": {},
   "outputs": [],
   "source": [
    "import os\n",
    "from PIL import Image, ImageEnhance, ImageOps\n",
    "import random\n",
    "from random import randint\n",
    "import matplotlib.pyplot as plt\n",
    "import numpy as np\n",
    "from tqdm import *\n",
    "from tensorflow.keras.utils import to_categorical\n",
    "from tensorflow.keras.models import Sequential\n",
    "from tensorflow.keras.layers import Dense, Conv2D, Flatten, MaxPooling2D, Dropout\n",
    "import tensorflow as tf;\n",
    "from training_set_utils import *\n",
    "from image_utils import *\n",
    "\n",
    "print(tf.version)\n",
    "\n",
    "atlas_dir = \"images/atlas/\"\n",
    "input_width = 28\n",
    "input_height = 28\n",
    "output_classes = 10"
   ]
  },
  {
   "cell_type": "code",
   "execution_count": null,
   "metadata": {},
   "outputs": [],
   "source": [
    "%matplotlib inline\n",
    "print(\"loading training data from \" + atlas_dir)\n",
    "training_set = create_from_atlas_dir(atlas_dir)"
   ]
  },
  {
   "cell_type": "code",
   "execution_count": null,
   "metadata": {},
   "outputs": [],
   "source": [
    "%matplotlib inline\n",
    "print(\"creating variations\")\n",
    "training_set_ext = create_variations(training_set)"
   ]
  },
  {
   "cell_type": "code",
   "execution_count": null,
   "metadata": {},
   "outputs": [],
   "source": [
    "%matplotlib inline\n",
    "print(\"converting training data\")\n",
    "\n",
    "random.shuffle(training_set_ext)\n",
    "\n",
    "def img_to_nparray(image):\n",
    "    image = image.convert(\"L\")\n",
    "    image = image.resize((input_width, input_height), Image.LANCZOS)\n",
    "    return np.asarray(image).astype(np.float32) / 255.0\n",
    "\n",
    "test_samples = 1000\n",
    "x_train_arr = []\n",
    "y_train_arr = []\n",
    "x_test_arr = []\n",
    "y_test_arr = []\n",
    "for i, item in enumerate(tqdm(training_set_ext)):\n",
    "    if i < test_samples:\n",
    "        x_test_arr.append(img_to_nparray(item.image))\n",
    "        y_test_arr.append(np.asarray(item.y).astype(np.float32))\n",
    "    else:\n",
    "        x_train_arr.append(img_to_nparray(item.image))\n",
    "        y_train_arr.append(np.asarray(item.y).astype(np.float32))\n",
    "    \n",
    "# convert to numpy types\n",
    "x_train = np.asarray(x_train_arr)\n",
    "y_train = np.asarray(y_train_arr)\n",
    "x_test = []\n",
    "y_test = []\n",
    "if test_samples > 0:\n",
    "    x_test = np.asarray(x_test_arr)\n",
    "    y_test = np.asarray(y_test_arr)"
   ]
  },
  {
   "cell_type": "code",
   "execution_count": null,
   "metadata": {},
   "outputs": [],
   "source": [
    "def createModel():\n",
    "    model = Sequential()\n",
    "    model.add(Conv2D(16, (3, 3), activation = 'relu', input_shape = (input_height, input_width, 1)))\n",
    "    model.add(MaxPooling2D(2, 2))\n",
    "    model.add(Dropout(0.5))\n",
    "    model.add(Conv2D(32, (3, 3), activation = 'relu'))\n",
    "    model.add(MaxPooling2D(2, 2))\n",
    "    model.add(Dropout(0.5))\n",
    "    model.add(Conv2D(32, (3, 3), activation = 'relu'))\n",
    "    model.add(Flatten())\n",
    "    model.add(Dense(64, activation = 'relu'))\n",
    "    model.add(Dropout(0.5))\n",
    "    model.add(Dense(output_classes, activation = 'softmax'))\n",
    "\n",
    "    model.compile(optimizer=\"rmsprop\", loss=\"categorical_crossentropy\", metrics=[\"acc\"])\n",
    "    return model"
   ]
  },
  {
   "cell_type": "code",
   "execution_count": null,
   "metadata": {
    "scrolled": true
   },
   "outputs": [],
   "source": [
    "model = createModel()\n",
    "model.summary()"
   ]
  },
  {
   "cell_type": "code",
   "execution_count": null,
   "metadata": {},
   "outputs": [],
   "source": [
    "from keras.preprocessing.image import ImageDataGenerator\n",
    "import time\n",
    "\n",
    "use_generator = False\n",
    "batch_size = 32 * 1024\n",
    "\n",
    "gen = ImageDataGenerator(\n",
    "            width_shift_range=0, \n",
    "            height_shift_range=0, \n",
    "            zoom_range=0.1, \n",
    "            horizontal_flip=False)\n",
    "            #rotation_range=10,\n",
    "            #brightness_range=[0.5, 1.0])\n",
    "\n",
    "for i in range(99999):\n",
    "    \n",
    "    #use_generator = (i % 2 == 1)\n",
    "    \n",
    "    if use_generator:        \n",
    "        model.fit_generator(gen.flow(\n",
    "            x_train.reshape(x_train.shape[0], x_train.shape[1], x_train.shape[2], 1), \n",
    "            y_train, batch_size=batch_size, shuffle=True), epochs=1, workers=24, steps_per_epoch=len(x_train) / batch_size)\n",
    "    else:\n",
    "        model.fit(\n",
    "            x_train.reshape(x_train.shape[0], x_train.shape[1], x_train.shape[2], 1),\n",
    "            y_train,\n",
    "            epochs=50,\n",
    "            batch_size=batch_size)\n",
    "        \n",
    "    loss_acc = model.evaluate(\n",
    "        x_test.reshape(x_test.shape[0], x_test.shape[1], x_test.shape[2], 1),\n",
    "        y_test,\n",
    "        batch_size=batch_size)\n",
    "    \n",
    "    model.save_weights(str(int(time.time())) + \"_weights_\" + str(input_width) + \"x\" + str(input_height) + \"_c\" + str(output_classes) + \"_acc\" + str(loss_acc[1]) + \".h5\")"
   ]
  },
  {
   "cell_type": "code",
   "execution_count": null,
   "metadata": {},
   "outputs": [],
   "source": [
    "def argmax2(arr):\n",
    "    idx0 = 0\n",
    "    last_max = 0.0\n",
    "    for i in range(len(arr)):\n",
    "        if arr[i] > last_max:\n",
    "            last_max = arr[i]\n",
    "            idx0 = i    \n",
    "    idx1 = 0\n",
    "    last_max = 0.0\n",
    "    for i in range(len(arr)):\n",
    "        if i != idx0 and arr[i] > last_max:\n",
    "            last_max = arr[i]\n",
    "            idx1 = i\n",
    "    return (idx0, idx1)\n",
    "\n",
    "def confidence(arr, pred):\n",
    "    conv0 = arr[pred[0]]\n",
    "    conv1 = arr[pred[1]]\n",
    "    return (round(conv0, 2), round(conv1, 2))\n",
    "\n",
    "def predict(img):\n",
    "    result = model.predict(img.reshape(1, img.shape[0], img.shape[1], 1))[0]\n",
    "    pred = argmax2(result)\n",
    "    return (pred, confidence(result, pred))\n",
    "\n",
    "def predict_test(idx):\n",
    "    result = predict(x_test[idx])\n",
    "    pred = result[0]\n",
    "    conf = result[1]\n",
    "    expect = argmax2(y_test_arr[idx])\n",
    "    expect_conf = confidence(y_test_arr[idx], expect)\n",
    "    if expect_conf[0] > 0.6:\n",
    "        correct = expect[0] == pred[0]\n",
    "        print(\"correct: \" + str(correct) + \n",
    "              \"; expected: \" + str(expect) + \" \" + str(expect_conf) +\n",
    "              \"; predicted: \" + str(pred) + \" \" + str(conf))\n",
    "        if not correct: # or convidence < 0.9:\n",
    "            training_set_ext[idx].show()\n",
    "            #plt.imshow(x_test[idx])\n",
    "            #plt.show()\n",
    "    else:\n",
    "        print(\"skip\")\n",
    "for i in range(len(x_test_arr)):\n",
    "    predict_test(i)"
   ]
  },
  {
   "cell_type": "code",
   "execution_count": null,
   "metadata": {},
   "outputs": [],
   "source": [
    "import tensorflow as tf\n",
    "converter = tf.lite.TFLiteConverter.from_keras_model(model)\n",
    "tflite_model = converter.convert()\n",
    "filename = \"ocr_model_\" + str(input_width) + \"x\" + str(input_height) + \"_c\" + str(output_classes)\n",
    "print(\"writing \" + filename + \".tflite\")\n",
    "open(filename + \".tflite\", \"wb\").write(tflite_model)\n",
    "print(\"Now call the following in git bash: xxd -i \" + filename + \".tflite > ../src/\" + filename + \".c\")"
   ]
  },
  {
   "cell_type": "code",
   "execution_count": null,
   "metadata": {},
   "outputs": [],
   "source": []
  },
  {
   "cell_type": "code",
   "execution_count": null,
   "metadata": {},
   "outputs": [],
   "source": []
  }
 ],
 "metadata": {
  "kernelspec": {
   "display_name": "Python 3",
   "language": "python",
   "name": "python3"
  },
  "language_info": {
   "codemirror_mode": {
    "name": "ipython",
    "version": 3
   },
   "file_extension": ".py",
   "mimetype": "text/x-python",
   "name": "python",
   "nbconvert_exporter": "python",
   "pygments_lexer": "ipython3",
   "version": "3.7.3"
  }
 },
 "nbformat": 4,
 "nbformat_minor": 4
}
