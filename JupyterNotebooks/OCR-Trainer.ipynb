{
 "cells": [
  {
   "cell_type": "code",
   "execution_count": null,
   "metadata": {},
   "outputs": [],
   "source": [
    "import os\n",
    "from PIL import Image\n",
    "import random\n",
    "import matplotlib.pyplot as plt\n",
    "import numpy as np\n",
    "from tensorflow.keras.utils import to_categorical\n",
    "from tensorflow.keras.models import Sequential\n",
    "from tensorflow.keras.layers import Dense, Conv2D, Flatten, MaxPooling2D, Dropout\n",
    "import tensorflow as tf; \n",
    "print(tf.version)"
   ]
  },
  {
   "cell_type": "code",
   "execution_count": null,
   "metadata": {},
   "outputs": [],
   "source": [
    "input_width = 28\n",
    "input_height = 28\n",
    "output_classes = 11"
   ]
  },
  {
   "cell_type": "code",
   "execution_count": null,
   "metadata": {},
   "outputs": [],
   "source": [
    "%matplotlib inline\n",
    "\n",
    "def read_image(filePath):\n",
    "    image = Image.open(filePath)\n",
    "\n",
    "    # https://pillow.readthedocs.io/en/3.1.x/reference/Image.html#PIL.Image.Image.resize\n",
    "    image = image.resize((input_width, input_height), Image.LANCZOS)\n",
    "\n",
    "    # https://pillow.readthedocs.io/en/3.1.x/reference/Image.html#PIL.Image.Image.convert\n",
    "    image = image.convert(\"L\")\n",
    "\n",
    "    image = np.asarray(image)\n",
    "\n",
    "    return np.asarray(image).astype(np.float32) / 255.\n",
    "\n",
    "def read_images(path):\n",
    "    files = os.listdir(path)    \n",
    "    files = [file for file in files if file[-4:] == \".png\"]\n",
    "    random.shuffle(files)\n",
    "    images = []\n",
    "    for file in files:\n",
    "        try:\n",
    "            images.append(read_image(os.path.join(path, file)))\n",
    "        except OSError:\n",
    "            pass\n",
    "    \n",
    "    return images\n",
    "\n",
    "test_samples_per_digit = 5\n",
    "x_train_arr = []\n",
    "y_train_arr = []\n",
    "x_test_arr = []\n",
    "y_test_arr = []\n",
    "for i in range(output_classes):\n",
    "    images = read_images(\"images/labeled/\" + str(i))\n",
    "    print(\"Digit: \" + str(i) + \"; Images: \" + str(len(images)))\n",
    "    #plt.imshow(images[0])\n",
    "    #plt.show()\n",
    "    idx = 0\n",
    "    for image in images:\n",
    "        if idx < test_samples_per_digit:\n",
    "            x_test_arr.append(image)\n",
    "            y_test_arr.append(i)  \n",
    "        else:\n",
    "            x_train_arr.append(image)\n",
    "            y_train_arr.append(i)\n",
    "        idx = idx + 1\n",
    "    \n",
    "# convert to numpy types\n",
    "x_train = np.asarray(x_train_arr)#.astype(np.float32) / 255.\n",
    "y_train = to_categorical(y_train_arr)\n",
    "x_test = []\n",
    "y_test = []\n",
    "if test_samples_per_digit > 0:\n",
    "    x_test = np.asarray(x_test_arr)#.astype(np.float32) / 255.\n",
    "    y_test = to_categorical(y_test_arr)\n",
    "#print(\"x_train: \" + str(x_train))\n",
    "#print(\"y_train: \" + str(y_train))\n",
    "#print(\"##########################\")\n",
    "#print(\"x_test: \" + str(x_test))\n",
    "#print(\"y_test: \" + str(y_test))"
   ]
  },
  {
   "cell_type": "code",
   "execution_count": null,
   "metadata": {},
   "outputs": [],
   "source": [
    "def createModel():\n",
    "    model = Sequential()\n",
    "    model.add(Conv2D(16, (3, 3), activation = 'relu', input_shape = (input_height, input_width, 1)))\n",
    "    model.add(MaxPooling2D(2, 2))\n",
    "    model.add(Dropout(0.5))\n",
    "    model.add(Conv2D(32, (3, 3), activation = 'relu'))\n",
    "    model.add(MaxPooling2D(2, 2))\n",
    "    model.add(Dropout(0.5))\n",
    "    model.add(Conv2D(32, (3, 3), activation = 'relu'))\n",
    "    model.add(Flatten())\n",
    "    model.add(Dense(64, activation = 'relu'))\n",
    "    model.add(Dropout(0.5))\n",
    "    model.add(Dense(output_classes, activation = 'softmax'))\n",
    "\n",
    "    model.compile(optimizer=\"rmsprop\", loss=\"categorical_crossentropy\", metrics=[\"acc\"])\n",
    "    return model"
   ]
  },
  {
   "cell_type": "code",
   "execution_count": null,
   "metadata": {
    "scrolled": true
   },
   "outputs": [],
   "source": [
    "model = createModel()\n",
    "model.summary()"
   ]
  },
  {
   "cell_type": "code",
   "execution_count": null,
   "metadata": {},
   "outputs": [],
   "source": [
    "from keras.preprocessing.image import ImageDataGenerator\n",
    "\n",
    "gen = ImageDataGenerator(width_shift_range=3, height_shift_range=3, zoom_range=0.1, horizontal_flip=False)\n",
    "\n",
    "if False:\n",
    "    model.fit(\n",
    "        x_train.reshape(x_train.shape[0], x_train.shape[1], x_train.shape[2], 1),\n",
    "        y_train,\n",
    "        epochs=2000,\n",
    "        batch_size=256)\n",
    "else:\n",
    "    model.fit_generator(gen.flow(\n",
    "        x_train.reshape(x_train.shape[0], x_train.shape[1], x_train.shape[2], 1), \n",
    "        y_train, batch_size=128, shuffle=True), epochs=100, workers=24, steps_per_epoch=256)"
   ]
  },
  {
   "cell_type": "code",
   "execution_count": null,
   "metadata": {},
   "outputs": [],
   "source": [
    "def predict(img):\n",
    "    result = model.predict(img.reshape(1, img.shape[0], img.shape[1], 1))\n",
    "    pred = np.argmax(result, axis = 1)[0]\n",
    "    convidence = result[0][pred]\n",
    "    return (pred, convidence)\n",
    "\n",
    "def predict_test(idx):\n",
    "    result = predict(x_test[idx])\n",
    "    pred = result[0]\n",
    "    convidence = result[1]\n",
    "    expect = y_test_arr[idx]\n",
    "    correct = expect == pred    \n",
    "    print(\"correct: \" + str(correct) + \n",
    "          \"; expected: \" + str(expect) + \n",
    "          \"; predicted: \" + str(pred) + \n",
    "          \"; confidence: \" + str(round(convidence, 2)))\n",
    "    if not correct or convidence < 0.7:\n",
    "        plt.imshow(x_test[idx])\n",
    "        plt.show()\n",
    "for i in range(len(x_test_arr)):\n",
    "    predict_test(i)"
   ]
  },
  {
   "cell_type": "code",
   "execution_count": null,
   "metadata": {},
   "outputs": [],
   "source": [
    "import tensorflow as tf\n",
    "converter = tf.lite.TFLiteConverter.from_keras_model(model)\n",
    "tflite_model = converter.convert()\n",
    "filename = \"ocr_model_\" + str(input_width) + \"x\" + str(input_height) + \"_c\" + str(output_classes)\n",
    "print(\"writing \" + filename + \".tflite\")\n",
    "open(filename + \".tflite\", \"wb\").write(tflite_model)\n",
    "print(\"Now you have to call the following in git bash: xxd -i \" + filename + \".tflite > \" + filename + \".c\")"
   ]
  },
  {
   "cell_type": "code",
   "execution_count": null,
   "metadata": {},
   "outputs": [],
   "source": []
  }
 ],
 "metadata": {
  "kernelspec": {
   "display_name": "Python 3",
   "language": "python",
   "name": "python3"
  },
  "language_info": {
   "codemirror_mode": {
    "name": "ipython",
    "version": 3
   },
   "file_extension": ".py",
   "mimetype": "text/x-python",
   "name": "python",
   "nbconvert_exporter": "python",
   "pygments_lexer": "ipython3",
   "version": "3.7.3"
  }
 },
 "nbformat": 4,
 "nbformat_minor": 2
}
