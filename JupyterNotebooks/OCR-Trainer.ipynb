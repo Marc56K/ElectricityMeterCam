{
 "cells": [
  {
   "cell_type": "code",
   "execution_count": 1,
   "metadata": {},
   "outputs": [
    {
     "name": "stdout",
     "output_type": "stream",
     "text": [
      "<module 'tensorflow_core._api.v2.version' from 'C:\\\\ProgramData\\\\Anaconda3\\\\lib\\\\site-packages\\\\tensorflow_core\\\\_api\\\\v2\\\\version\\\\__init__.py'>\n"
     ]
    }
   ],
   "source": [
    "import os\n",
    "from PIL import Image\n",
    "import random\n",
    "import matplotlib.pyplot as plt\n",
    "import numpy as np\n",
    "from tensorflow.keras.utils import to_categorical\n",
    "from tensorflow.keras.models import Sequential\n",
    "from tensorflow.keras.layers import Dense, Conv2D, Flatten, MaxPooling2D, Dropout\n",
    "import tensorflow as tf; \n",
    "print(tf.version)"
   ]
  },
  {
   "cell_type": "code",
   "execution_count": 14,
   "metadata": {},
   "outputs": [],
   "source": [
    "input_width = 28\n",
    "input_height = 28\n",
    "output_classes = 11"
   ]
  },
  {
   "cell_type": "code",
   "execution_count": 9,
   "metadata": {},
   "outputs": [
    {
     "name": "stdout",
     "output_type": "stream",
     "text": [
      "Digit: 0; Images: 645\n",
      "Digit: 1; Images: 622\n",
      "Digit: 2; Images: 263\n",
      "Digit: 3; Images: 777\n",
      "Digit: 4; Images: 112\n",
      "Digit: 5; Images: 173\n",
      "Digit: 6; Images: 250\n",
      "Digit: 7; Images: 267\n",
      "Digit: 8; Images: 368\n",
      "Digit: 9; Images: 234\n",
      "Digit: 10; Images: 281\n"
     ]
    }
   ],
   "source": [
    "%matplotlib inline\n",
    "\n",
    "def read_image(filePath):\n",
    "    image = Image.open(filePath)\n",
    "\n",
    "    # https://pillow.readthedocs.io/en/3.1.x/reference/Image.html#PIL.Image.Image.resize\n",
    "    image = image.resize((input_width, input_height), Image.LANCZOS)\n",
    "\n",
    "    # https://pillow.readthedocs.io/en/3.1.x/reference/Image.html#PIL.Image.Image.convert\n",
    "    image = image.convert(\"L\")\n",
    "\n",
    "    image = np.asarray(image)\n",
    "\n",
    "    return np.asarray(image).astype(np.float32) / 255.\n",
    "\n",
    "def read_images(path):\n",
    "    files = os.listdir(path)    \n",
    "    files = [file for file in files if file[-4:] == \".png\"]\n",
    "    random.shuffle(files)\n",
    "    images = []\n",
    "    for file in files:\n",
    "        try:\n",
    "            images.append(read_image(os.path.join(path, file)))\n",
    "        except OSError:\n",
    "            pass\n",
    "    \n",
    "    return images\n",
    "\n",
    "test_samples_per_digit = 10\n",
    "x_train_arr = []\n",
    "y_train_arr = []\n",
    "x_test_arr = []\n",
    "y_test_arr = []\n",
    "for i in range(output_classes):\n",
    "    images = read_images(\"images/labeled/\" + str(i))\n",
    "    print(\"Digit: \" + str(i) + \"; Images: \" + str(len(images)))\n",
    "    #plt.imshow(images[0])\n",
    "    #plt.show()\n",
    "    idx = 0\n",
    "    for image in images:\n",
    "        if idx < test_samples_per_digit:\n",
    "            x_test_arr.append(image)\n",
    "            y_test_arr.append(i)  \n",
    "        else:\n",
    "            x_train_arr.append(image)\n",
    "            y_train_arr.append(i)\n",
    "        idx = idx + 1\n",
    "    \n",
    "# convert to numpy types\n",
    "x_train = np.asarray(x_train_arr)#.astype(np.float32) / 255.\n",
    "y_train = to_categorical(y_train_arr)\n",
    "x_test = []\n",
    "y_test = []\n",
    "if test_samples_per_digit > 0:\n",
    "    x_test = np.asarray(x_test_arr)#.astype(np.float32) / 255.\n",
    "    y_test = to_categorical(y_test_arr)\n",
    "#print(\"x_train: \" + str(x_train))\n",
    "#print(\"y_train: \" + str(y_train))\n",
    "#print(\"##########################\")\n",
    "#print(\"x_test: \" + str(x_test))\n",
    "#print(\"y_test: \" + str(y_test))"
   ]
  },
  {
   "cell_type": "code",
   "execution_count": 10,
   "metadata": {},
   "outputs": [],
   "source": [
    "def createModel():\n",
    "    model = Sequential()\n",
    "    model.add(Conv2D(16, (3, 3), activation = 'relu', input_shape = (input_height, input_width, 1)))\n",
    "    model.add(MaxPooling2D(2, 2))\n",
    "    model.add(Dropout(0.5))\n",
    "    model.add(Conv2D(32, (3, 3), activation = 'relu'))\n",
    "    model.add(MaxPooling2D(2, 2))\n",
    "    model.add(Dropout(0.5))\n",
    "    model.add(Conv2D(32, (3, 3), activation = 'relu'))\n",
    "    model.add(Flatten())\n",
    "    model.add(Dense(64, activation = 'relu'))\n",
    "    model.add(Dropout(0.5))\n",
    "    model.add(Dense(output_classes, activation = 'softmax'))\n",
    "\n",
    "    model.compile(optimizer=\"rmsprop\", loss=\"categorical_crossentropy\", metrics=[\"acc\"])\n",
    "    return model"
   ]
  },
  {
   "cell_type": "code",
   "execution_count": 11,
   "metadata": {
    "scrolled": true
   },
   "outputs": [
    {
     "name": "stdout",
     "output_type": "stream",
     "text": [
      "Model: \"sequential_1\"\n",
      "_________________________________________________________________\n",
      "Layer (type)                 Output Shape              Param #   \n",
      "=================================================================\n",
      "conv2d_3 (Conv2D)            (None, 26, 26, 16)        160       \n",
      "_________________________________________________________________\n",
      "max_pooling2d_2 (MaxPooling2 (None, 13, 13, 16)        0         \n",
      "_________________________________________________________________\n",
      "dropout_3 (Dropout)          (None, 13, 13, 16)        0         \n",
      "_________________________________________________________________\n",
      "conv2d_4 (Conv2D)            (None, 11, 11, 32)        4640      \n",
      "_________________________________________________________________\n",
      "max_pooling2d_3 (MaxPooling2 (None, 5, 5, 32)          0         \n",
      "_________________________________________________________________\n",
      "dropout_4 (Dropout)          (None, 5, 5, 32)          0         \n",
      "_________________________________________________________________\n",
      "conv2d_5 (Conv2D)            (None, 3, 3, 32)          9248      \n",
      "_________________________________________________________________\n",
      "flatten_1 (Flatten)          (None, 288)               0         \n",
      "_________________________________________________________________\n",
      "dense_2 (Dense)              (None, 64)                18496     \n",
      "_________________________________________________________________\n",
      "dropout_5 (Dropout)          (None, 64)                0         \n",
      "_________________________________________________________________\n",
      "dense_3 (Dense)              (None, 11)                715       \n",
      "=================================================================\n",
      "Total params: 33,259\n",
      "Trainable params: 33,259\n",
      "Non-trainable params: 0\n",
      "_________________________________________________________________\n"
     ]
    }
   ],
   "source": [
    "model = createModel()\n",
    "model.summary()"
   ]
  },
  {
   "cell_type": "code",
   "execution_count": 12,
   "metadata": {},
   "outputs": [
    {
     "name": "stdout",
     "output_type": "stream",
     "text": [
      "WARNING:tensorflow:sample_weight modes were coerced from\n",
      "  ...\n",
      "    to  \n",
      "  ['...']\n",
      "Train for 256 steps\n",
      "Epoch 1/50\n",
      "256/256 [==============================] - 22s 85ms/step - loss: 1.3703 - acc: 0.5637\n",
      "Epoch 2/50\n",
      "256/256 [==============================] - 20s 77ms/step - loss: 0.6390 - acc: 0.8057\n",
      "Epoch 3/50\n",
      "256/256 [==============================] - 21s 82ms/step - loss: 0.4759 - acc: 0.8490\n",
      "Epoch 4/50\n",
      "256/256 [==============================] - 22s 85ms/step - loss: 0.3991 - acc: 0.8750\n",
      "Epoch 5/50\n",
      "256/256 [==============================] - 21s 81ms/step - loss: 0.3560 - acc: 0.8887\n",
      "Epoch 6/50\n",
      "256/256 [==============================] - 20s 77ms/step - loss: 0.3171 - acc: 0.9016\n",
      "Epoch 7/50\n",
      "256/256 [==============================] - 20s 79ms/step - loss: 0.2862 - acc: 0.9106\n",
      "Epoch 8/50\n",
      "256/256 [==============================] - 21s 83ms/step - loss: 0.2629 - acc: 0.9190\n",
      "Epoch 9/50\n",
      "256/256 [==============================] - 21s 80ms/step - loss: 0.2397 - acc: 0.9252\n",
      "Epoch 10/50\n",
      "256/256 [==============================] - 20s 77ms/step - loss: 0.2281 - acc: 0.9296\n",
      "Epoch 11/50\n",
      "256/256 [==============================] - 20s 78ms/step - loss: 0.2099 - acc: 0.9357\n",
      "Epoch 12/50\n",
      "256/256 [==============================] - 22s 85ms/step - loss: 0.1975 - acc: 0.9401\n",
      "Epoch 13/50\n",
      "256/256 [==============================] - 20s 80ms/step - loss: 0.1888 - acc: 0.9411\n",
      "Epoch 14/50\n",
      "256/256 [==============================] - 19s 75ms/step - loss: 0.1835 - acc: 0.9437\n",
      "Epoch 15/50\n",
      "256/256 [==============================] - 20s 77ms/step - loss: 0.1743 - acc: 0.9471\n",
      "Epoch 16/50\n",
      "256/256 [==============================] - 21s 82ms/step - loss: 0.1741 - acc: 0.9470\n",
      "Epoch 17/50\n",
      "256/256 [==============================] - 21s 81ms/step - loss: 0.1636 - acc: 0.9498\n",
      "Epoch 18/50\n",
      "256/256 [==============================] - 20s 78ms/step - loss: 0.1587 - acc: 0.9519\n",
      "Epoch 19/50\n",
      "256/256 [==============================] - 20s 79ms/step - loss: 0.1514 - acc: 0.9540\n",
      "Epoch 20/50\n",
      "256/256 [==============================] - 20s 80ms/step - loss: 0.1504 - acc: 0.9538\n",
      "Epoch 21/50\n",
      "256/256 [==============================] - 21s 80ms/step - loss: 0.1461 - acc: 0.9555\n",
      "Epoch 22/50\n",
      "256/256 [==============================] - 21s 81ms/step - loss: 0.1438 - acc: 0.9572 1s - loss: 0.1421 - \n",
      "Epoch 23/50\n",
      "256/256 [==============================] - 20s 80ms/step - loss: 0.1396 - acc: 0.9574\n",
      "Epoch 24/50\n",
      "256/256 [==============================] - 19s 76ms/step - loss: 0.1459 - acc: 0.9567\n",
      "Epoch 25/50\n",
      "256/256 [==============================] - 21s 83ms/step - loss: 0.1394 - acc: 0.9579\n",
      "Epoch 26/50\n",
      "256/256 [==============================] - 21s 83ms/step - loss: 0.1364 - acc: 0.9587\n",
      "Epoch 27/50\n",
      "256/256 [==============================] - 21s 81ms/step - loss: 0.1387 - acc: 0.9595\n",
      "Epoch 28/50\n",
      "256/256 [==============================] - 21s 81ms/step - loss: 0.1374 - acc: 0.9590\n",
      "Epoch 29/50\n",
      "256/256 [==============================] - 21s 84ms/step - loss: 0.1308 - acc: 0.9603\n",
      "Epoch 30/50\n",
      "256/256 [==============================] - 21s 80ms/step - loss: 0.1385 - acc: 0.9588\n",
      "Epoch 31/50\n",
      "256/256 [==============================] - 20s 79ms/step - loss: 0.1342 - acc: 0.9603\n",
      "Epoch 32/50\n",
      "256/256 [==============================] - 20s 79ms/step - loss: 0.1285 - acc: 0.9611\n",
      "Epoch 33/50\n",
      "256/256 [==============================] - 21s 82ms/step - loss: 0.1390 - acc: 0.9586\n",
      "Epoch 34/50\n",
      "256/256 [==============================] - 21s 83ms/step - loss: 0.1314 - acc: 0.9599\n",
      "Epoch 35/50\n",
      "256/256 [==============================] - 22s 85ms/step - loss: 0.1309 - acc: 0.9617\n",
      "Epoch 36/50\n",
      "256/256 [==============================] - 20s 79ms/step - loss: 0.1306 - acc: 0.9609\n",
      "Epoch 37/50\n",
      "256/256 [==============================] - 21s 80ms/step - loss: 0.1343 - acc: 0.9614\n",
      "Epoch 38/50\n",
      "256/256 [==============================] - 21s 83ms/step - loss: 0.1339 - acc: 0.9596\n",
      "Epoch 39/50\n",
      "256/256 [==============================] - 20s 80ms/step - loss: 0.1356 - acc: 0.9604\n",
      "Epoch 40/50\n",
      "256/256 [==============================] - 21s 81ms/step - loss: 0.1282 - acc: 0.9619\n",
      "Epoch 41/50\n",
      "256/256 [==============================] - 21s 83ms/step - loss: 0.1213 - acc: 0.9646\n",
      "Epoch 42/50\n",
      "256/256 [==============================] - 22s 84ms/step - loss: 0.1267 - acc: 0.9624\n",
      "Epoch 43/50\n",
      "256/256 [==============================] - 20s 79ms/step - loss: 0.1307 - acc: 0.9634 1s - loss: 0.131\n",
      "Epoch 44/50\n",
      "256/256 [==============================] - 21s 83ms/step - loss: 0.1324 - acc: 0.9608\n",
      "Epoch 45/50\n",
      "256/256 [==============================] - 20s 80ms/step - loss: 0.1276 - acc: 0.9630\n",
      "Epoch 46/50\n",
      "256/256 [==============================] - 21s 81ms/step - loss: 0.1347 - acc: 0.9612\n",
      "Epoch 47/50\n",
      "256/256 [==============================] - 21s 80ms/step - loss: 0.1298 - acc: 0.9617\n",
      "Epoch 48/50\n",
      "256/256 [==============================] - 20s 79ms/step - loss: 0.1254 - acc: 0.9640\n",
      "Epoch 49/50\n",
      "256/256 [==============================] - 20s 77ms/step - loss: 0.1330 - acc: 0.9611\n",
      "Epoch 50/50\n",
      "256/256 [==============================] - 21s 82ms/step - loss: 0.1298 - acc: 0.9642\n"
     ]
    }
   ],
   "source": [
    "from keras.preprocessing.image import ImageDataGenerator\n",
    "\n",
    "gen = ImageDataGenerator(width_shift_range=3, height_shift_range=3, zoom_range=0.1, horizontal_flip=False)\n",
    "\n",
    "if False:\n",
    "    model.fit(\n",
    "        x_train.reshape(x_train.shape[0], x_train.shape[1], x_train.shape[2], 1),\n",
    "        y_train,\n",
    "        epochs=2000,\n",
    "        batch_size=256)\n",
    "else:\n",
    "    model.fit_generator(gen.flow(\n",
    "        x_train.reshape(x_train.shape[0], x_train.shape[1], x_train.shape[2], 1), \n",
    "        y_train, batch_size=128, shuffle=True), epochs=50, workers=8, steps_per_epoch=256)"
   ]
  },
  {
   "cell_type": "code",
   "execution_count": 13,
   "metadata": {},
   "outputs": [
    {
     "name": "stdout",
     "output_type": "stream",
     "text": [
      "correct: True; expcted: 0; predicted: 0; confidence: 1.0\n",
      "correct: True; expcted: 0; predicted: 0; confidence: 1.0\n",
      "correct: True; expcted: 0; predicted: 0; confidence: 1.0\n",
      "correct: True; expcted: 0; predicted: 0; confidence: 1.0\n",
      "correct: True; expcted: 0; predicted: 0; confidence: 1.0\n",
      "correct: True; expcted: 0; predicted: 0; confidence: 1.0\n",
      "correct: True; expcted: 0; predicted: 0; confidence: 1.0\n",
      "correct: True; expcted: 0; predicted: 0; confidence: 1.0\n",
      "correct: True; expcted: 0; predicted: 0; confidence: 1.0\n",
      "correct: True; expcted: 0; predicted: 0; confidence: 1.0\n",
      "correct: True; expcted: 1; predicted: 1; confidence: 1.0\n",
      "correct: True; expcted: 1; predicted: 1; confidence: 1.0\n",
      "correct: True; expcted: 1; predicted: 1; confidence: 1.0\n",
      "correct: True; expcted: 1; predicted: 1; confidence: 1.0\n",
      "correct: True; expcted: 1; predicted: 1; confidence: 1.0\n",
      "correct: True; expcted: 1; predicted: 1; confidence: 1.0\n",
      "correct: True; expcted: 1; predicted: 1; confidence: 1.0\n",
      "correct: True; expcted: 1; predicted: 1; confidence: 1.0\n",
      "correct: True; expcted: 1; predicted: 1; confidence: 1.0\n",
      "correct: True; expcted: 1; predicted: 1; confidence: 1.0\n",
      "correct: True; expcted: 2; predicted: 2; confidence: 0.99\n",
      "correct: True; expcted: 2; predicted: 2; confidence: 1.0\n",
      "correct: True; expcted: 2; predicted: 2; confidence: 1.0\n",
      "correct: True; expcted: 2; predicted: 2; confidence: 1.0\n",
      "correct: True; expcted: 2; predicted: 2; confidence: 1.0\n",
      "correct: True; expcted: 2; predicted: 2; confidence: 1.0\n",
      "correct: True; expcted: 2; predicted: 2; confidence: 1.0\n",
      "correct: True; expcted: 2; predicted: 2; confidence: 0.99\n",
      "correct: True; expcted: 2; predicted: 2; confidence: 1.0\n",
      "correct: True; expcted: 2; predicted: 2; confidence: 1.0\n",
      "correct: True; expcted: 3; predicted: 3; confidence: 1.0\n",
      "correct: True; expcted: 3; predicted: 3; confidence: 1.0\n",
      "correct: True; expcted: 3; predicted: 3; confidence: 1.0\n",
      "correct: True; expcted: 3; predicted: 3; confidence: 1.0\n",
      "correct: True; expcted: 3; predicted: 3; confidence: 1.0\n",
      "correct: True; expcted: 3; predicted: 3; confidence: 1.0\n",
      "correct: True; expcted: 3; predicted: 3; confidence: 1.0\n",
      "correct: True; expcted: 3; predicted: 3; confidence: 1.0\n",
      "correct: True; expcted: 3; predicted: 3; confidence: 1.0\n",
      "correct: True; expcted: 3; predicted: 3; confidence: 1.0\n",
      "correct: True; expcted: 4; predicted: 4; confidence: 0.98\n",
      "correct: True; expcted: 4; predicted: 4; confidence: 1.0\n",
      "correct: True; expcted: 4; predicted: 4; confidence: 0.97\n",
      "correct: True; expcted: 4; predicted: 4; confidence: 1.0\n",
      "correct: True; expcted: 4; predicted: 4; confidence: 0.98\n",
      "correct: True; expcted: 4; predicted: 4; confidence: 1.0\n",
      "correct: True; expcted: 4; predicted: 4; confidence: 1.0\n",
      "correct: True; expcted: 4; predicted: 4; confidence: 1.0\n",
      "correct: True; expcted: 4; predicted: 4; confidence: 1.0\n",
      "correct: True; expcted: 4; predicted: 4; confidence: 0.95\n",
      "correct: True; expcted: 5; predicted: 5; confidence: 1.0\n",
      "correct: True; expcted: 5; predicted: 5; confidence: 1.0\n",
      "correct: True; expcted: 5; predicted: 5; confidence: 1.0\n",
      "correct: True; expcted: 5; predicted: 5; confidence: 1.0\n",
      "correct: True; expcted: 5; predicted: 5; confidence: 1.0\n",
      "correct: True; expcted: 5; predicted: 5; confidence: 1.0\n",
      "correct: True; expcted: 5; predicted: 5; confidence: 0.94\n",
      "correct: True; expcted: 5; predicted: 5; confidence: 1.0\n",
      "correct: True; expcted: 5; predicted: 5; confidence: 1.0\n",
      "correct: True; expcted: 5; predicted: 5; confidence: 1.0\n",
      "correct: True; expcted: 6; predicted: 6; confidence: 1.0\n",
      "correct: True; expcted: 6; predicted: 6; confidence: 1.0\n",
      "correct: True; expcted: 6; predicted: 6; confidence: 1.0\n",
      "correct: True; expcted: 6; predicted: 6; confidence: 1.0\n",
      "correct: True; expcted: 6; predicted: 6; confidence: 1.0\n",
      "correct: True; expcted: 6; predicted: 6; confidence: 1.0\n",
      "correct: True; expcted: 6; predicted: 6; confidence: 1.0\n",
      "correct: True; expcted: 6; predicted: 6; confidence: 1.0\n",
      "correct: False; expcted: 6; predicted: 5; confidence: 0.65\n"
     ]
    },
    {
     "data": {
      "image/png": "[encoded data removed]",
      "text/plain": [
       "<Figure size 432x288 with 1 Axes>"
      ]
     },
     "metadata": {
      "needs_background": "light"
     },
     "output_type": "display_data"
    },
    {
     "name": "stdout",
     "output_type": "stream",
     "text": [
      "correct: True; expcted: 6; predicted: 6; confidence: 1.0\n",
      "correct: True; expcted: 7; predicted: 7; confidence: 1.0\n",
      "correct: True; expcted: 7; predicted: 7; confidence: 1.0\n",
      "correct: True; expcted: 7; predicted: 7; confidence: 1.0\n",
      "correct: True; expcted: 7; predicted: 7; confidence: 1.0\n",
      "correct: True; expcted: 7; predicted: 7; confidence: 1.0\n",
      "correct: True; expcted: 7; predicted: 7; confidence: 1.0\n",
      "correct: True; expcted: 7; predicted: 7; confidence: 1.0\n",
      "correct: True; expcted: 7; predicted: 7; confidence: 1.0\n",
      "correct: True; expcted: 7; predicted: 7; confidence: 1.0\n",
      "correct: True; expcted: 7; predicted: 7; confidence: 1.0\n",
      "correct: True; expcted: 8; predicted: 8; confidence: 1.0\n",
      "correct: True; expcted: 8; predicted: 8; confidence: 1.0\n",
      "correct: True; expcted: 8; predicted: 8; confidence: 1.0\n",
      "correct: True; expcted: 8; predicted: 8; confidence: 1.0\n",
      "correct: True; expcted: 8; predicted: 8; confidence: 1.0\n",
      "correct: True; expcted: 8; predicted: 8; confidence: 0.61\n"
     ]
    },
    {
     "data": {
      "image/png": "[encoded data removed]",
      "text/plain": [
       "<Figure size 432x288 with 1 Axes>"
      ]
     },
     "metadata": {
      "needs_background": "light"
     },
     "output_type": "display_data"
    },
    {
     "name": "stdout",
     "output_type": "stream",
     "text": [
      "correct: True; expcted: 8; predicted: 8; confidence: 1.0\n",
      "correct: True; expcted: 8; predicted: 8; confidence: 0.69\n"
     ]
    },
    {
     "data": {
      "image/png": "[encoded data removed]",
      "text/plain": [
       "<Figure size 432x288 with 1 Axes>"
      ]
     },
     "metadata": {
      "needs_background": "light"
     },
     "output_type": "display_data"
    },
    {
     "name": "stdout",
     "output_type": "stream",
     "text": [
      "correct: True; expcted: 8; predicted: 8; confidence: 1.0\n",
      "correct: True; expcted: 8; predicted: 8; confidence: 0.35\n"
     ]
    },
    {
     "data": {
      "image/png": "[encoded data removed]",
      "text/plain": [
       "<Figure size 432x288 with 1 Axes>"
      ]
     },
     "metadata": {
      "needs_background": "light"
     },
     "output_type": "display_data"
    },
    {
     "name": "stdout",
     "output_type": "stream",
     "text": [
      "correct: True; expcted: 9; predicted: 9; confidence: 1.0\n",
      "correct: True; expcted: 9; predicted: 9; confidence: 1.0\n",
      "correct: True; expcted: 9; predicted: 9; confidence: 0.88\n",
      "correct: True; expcted: 9; predicted: 9; confidence: 1.0\n",
      "correct: True; expcted: 9; predicted: 9; confidence: 1.0\n",
      "correct: True; expcted: 9; predicted: 9; confidence: 1.0\n",
      "correct: True; expcted: 9; predicted: 9; confidence: 0.99\n",
      "correct: True; expcted: 9; predicted: 9; confidence: 1.0\n",
      "correct: True; expcted: 9; predicted: 9; confidence: 1.0\n",
      "correct: True; expcted: 9; predicted: 9; confidence: 1.0\n",
      "correct: True; expcted: 10; predicted: 10; confidence: 1.0\n",
      "correct: True; expcted: 10; predicted: 10; confidence: 0.94\n",
      "correct: True; expcted: 10; predicted: 10; confidence: 1.0\n",
      "correct: True; expcted: 10; predicted: 10; confidence: 1.0\n",
      "correct: True; expcted: 10; predicted: 10; confidence: 1.0\n",
      "correct: True; expcted: 10; predicted: 10; confidence: 0.96\n",
      "correct: True; expcted: 10; predicted: 10; confidence: 1.0\n",
      "correct: True; expcted: 10; predicted: 10; confidence: 1.0\n",
      "correct: True; expcted: 10; predicted: 10; confidence: 1.0\n",
      "correct: True; expcted: 10; predicted: 10; confidence: 1.0\n"
     ]
    }
   ],
   "source": [
    "def predict(img):\n",
    "    result = model.predict(img.reshape(1, img.shape[0], img.shape[1], 1))\n",
    "    pred = np.argmax(result, axis = 1)[0]\n",
    "    convidence = result[0][pred]\n",
    "    return (pred, convidence)\n",
    "\n",
    "def predict_test(idx):\n",
    "    result = predict(x_test[idx])\n",
    "    pred = result[0]\n",
    "    convidence = result[1]\n",
    "    expect = y_test_arr[idx]\n",
    "    correct = expect == pred    \n",
    "    print(\"correct: \" + str(correct) + \n",
    "          \"; expcted: \" + str(expect) + \n",
    "          \"; predicted: \" + str(pred) + \n",
    "          \"; confidence: \" + str(round(convidence, 2)))\n",
    "    if not correct or convidence < 0.7:\n",
    "        plt.imshow(x_test[idx])\n",
    "        plt.show()\n",
    "for i in range(len(x_test_arr)):\n",
    "    predict_test(i)"
   ]
  },
  {
   "cell_type": "code",
   "execution_count": 15,
   "metadata": {},
   "outputs": [
    {
     "name": "stdout",
     "output_type": "stream",
     "text": [
      "writing ocr_model_28x28_c11.tflite\n",
      "Now you have to call the following in git bash: xxd -i ocr_model_28x28_c11.tflite > ocr_model_28x28_c11.c\n"
     ]
    }
   ],
   "source": [
    "import tensorflow as tf\n",
    "converter = tf.lite.TFLiteConverter.from_keras_model(model)\n",
    "tflite_model = converter.convert()\n",
    "filename = \"ocr_model_\" + str(input_width) + \"x\" + str(input_height) + \"_c\" + str(output_classes)\n",
    "print(\"writing \" + filename + \".tflite\")\n",
    "open(filename + \".tflite\", \"wb\").write(tflite_model)\n",
    "print(\"Now you have to call the following in git bash: xxd -i \" + filename + \".tflite > \" + filename + \".c\")"
   ]
  },
  {
   "cell_type": "code",
   "execution_count": null,
   "metadata": {},
   "outputs": [],
   "source": []
  }
 ],
 "metadata": {
  "kernelspec": {
   "display_name": "Python 3",
   "language": "python",
   "name": "python3"
  },
  "language_info": {
   "codemirror_mode": {
    "name": "ipython",
    "version": 3
   },
   "file_extension": ".py",
   "mimetype": "text/x-python",
   "name": "python",
   "nbconvert_exporter": "python",
   "pygments_lexer": "ipython3",
   "version": "3.7.3"
  }
 },
 "nbformat": 4,
 "nbformat_minor": 2
}
