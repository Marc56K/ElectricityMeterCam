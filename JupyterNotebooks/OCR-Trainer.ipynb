{
 "cells": [
  {
   "cell_type": "code",
   "execution_count": 1,
   "metadata": {},
   "outputs": [
    {
     "name": "stdout",
     "output_type": "stream",
     "text": [
      "<module 'tensorflow_core._api.v2.version' from 'C:\\\\ProgramData\\\\Anaconda3\\\\lib\\\\site-packages\\\\tensorflow_core\\\\_api\\\\v2\\\\version\\\\__init__.py'>\n"
     ]
    }
   ],
   "source": [
    "import os\n",
    "from PIL import Image\n",
    "import random\n",
    "import matplotlib.pyplot as plt\n",
    "import numpy as np\n",
    "from tensorflow.keras.utils import to_categorical\n",
    "from tensorflow.keras.models import Sequential\n",
    "from tensorflow.keras.layers import Dense, Conv2D, Flatten, MaxPooling2D, Dropout\n",
    "import tensorflow as tf; \n",
    "print(tf.version)"
   ]
  },
  {
   "cell_type": "code",
   "execution_count": 2,
   "metadata": {},
   "outputs": [],
   "source": [
    "input_width = 28\n",
    "input_height = 28"
   ]
  },
  {
   "cell_type": "code",
   "execution_count": 3,
   "metadata": {},
   "outputs": [
    {
     "name": "stdout",
     "output_type": "stream",
     "text": [
      "Digit: 0; Images: 155\n",
      "Digit: 1; Images: 127\n",
      "Digit: 2; Images: 118\n",
      "Digit: 3; Images: 72\n",
      "Digit: 4; Images: 73\n",
      "Digit: 5; Images: 81\n",
      "Digit: 6; Images: 84\n",
      "Digit: 7; Images: 64\n",
      "Digit: 8; Images: 42\n",
      "Digit: 9; Images: 71\n"
     ]
    }
   ],
   "source": [
    "%matplotlib inline\n",
    "\n",
    "def read_image(filePath):\n",
    "    image = Image.open(filePath)\n",
    "\n",
    "    # https://pillow.readthedocs.io/en/3.1.x/reference/Image.html#PIL.Image.Image.resize\n",
    "    image = image.resize((input_width, input_height), Image.LANCZOS)\n",
    "\n",
    "    # https://pillow.readthedocs.io/en/3.1.x/reference/Image.html#PIL.Image.Image.convert\n",
    "    image = image.convert(\"L\")\n",
    "\n",
    "    image = np.asarray(image)\n",
    "\n",
    "    return np.asarray(image).astype(np.float32) / 255.\n",
    "\n",
    "def read_images(path):\n",
    "    files = os.listdir(path)    \n",
    "    files = [file for file in files if file[-4:] == \".png\"]\n",
    "    random.shuffle(files)\n",
    "    images = []\n",
    "    for file in files:\n",
    "        try:\n",
    "            images.append(read_image(os.path.join(path, file)))\n",
    "        except OSError:\n",
    "            pass\n",
    "    \n",
    "    return images\n",
    "\n",
    "test_samples_per_digit = 0\n",
    "x_train_arr = []\n",
    "y_train_arr = []\n",
    "x_test_arr = []\n",
    "y_test_arr = []\n",
    "for i in range(10):\n",
    "    images = read_images(\"images/digits/\" + str(i))\n",
    "    print(\"Digit: \" + str(i) + \"; Images: \" + str(len(images)))\n",
    "    #plt.imshow(images[0])\n",
    "    #plt.show()\n",
    "    idx = 0\n",
    "    for image in images:\n",
    "        if idx < test_samples_per_digit:\n",
    "            x_test_arr.append(image)\n",
    "            y_test_arr.append(i)  \n",
    "        else:\n",
    "            x_train_arr.append(image)\n",
    "            y_train_arr.append(i)\n",
    "        idx = idx + 1\n",
    "    \n",
    "# convert to numpy types\n",
    "x_train = np.asarray(x_train_arr)#.astype(np.float32) / 255.\n",
    "y_train = to_categorical(y_train_arr)\n",
    "x_test = []\n",
    "y_test = []\n",
    "if test_samples_per_digit > 0:\n",
    "    x_test = np.asarray(x_test_arr)#.astype(np.float32) / 255.\n",
    "    y_test = to_categorical(y_test_arr)\n",
    "#print(\"x_train: \" + str(x_train))\n",
    "#print(\"y_train: \" + str(y_train))\n",
    "#print(\"##########################\")\n",
    "#print(\"x_test: \" + str(x_test))\n",
    "#print(\"y_test: \" + str(y_test))"
   ]
  },
  {
   "cell_type": "code",
   "execution_count": 4,
   "metadata": {},
   "outputs": [],
   "source": [
    "def createModel():\n",
    "    model = Sequential()\n",
    "    model.add(Conv2D(16, (3, 3), activation = 'relu', input_shape = (input_height, input_width, 1)))\n",
    "    model.add(MaxPooling2D(2, 2))\n",
    "    model.add(Dropout(0.5))\n",
    "    model.add(Conv2D(32, (3, 3), activation = 'relu'))\n",
    "    model.add(MaxPooling2D(2, 2))\n",
    "    model.add(Dropout(0.5))\n",
    "    model.add(Conv2D(32, (3, 3), activation = 'relu'))\n",
    "    model.add(Flatten())\n",
    "    model.add(Dense(64, activation = 'relu'))\n",
    "    model.add(Dropout(0.5))\n",
    "    model.add(Dense(10, activation = 'softmax'))\n",
    "\n",
    "    model.compile(optimizer=\"rmsprop\", loss=\"categorical_crossentropy\", metrics=[\"acc\"])\n",
    "    return model"
   ]
  },
  {
   "cell_type": "code",
   "execution_count": 15,
   "metadata": {
    "scrolled": true
   },
   "outputs": [
    {
     "name": "stdout",
     "output_type": "stream",
     "text": [
      "Model: \"sequential_2\"\n",
      "_________________________________________________________________\n",
      "Layer (type)                 Output Shape              Param #   \n",
      "=================================================================\n",
      "conv2d_6 (Conv2D)            (None, 26, 26, 16)        160       \n",
      "_________________________________________________________________\n",
      "max_pooling2d_4 (MaxPooling2 (None, 13, 13, 16)        0         \n",
      "_________________________________________________________________\n",
      "dropout_6 (Dropout)          (None, 13, 13, 16)        0         \n",
      "_________________________________________________________________\n",
      "conv2d_7 (Conv2D)            (None, 11, 11, 32)        4640      \n",
      "_________________________________________________________________\n",
      "max_pooling2d_5 (MaxPooling2 (None, 5, 5, 32)          0         \n",
      "_________________________________________________________________\n",
      "dropout_7 (Dropout)          (None, 5, 5, 32)          0         \n",
      "_________________________________________________________________\n",
      "conv2d_8 (Conv2D)            (None, 3, 3, 32)          9248      \n",
      "_________________________________________________________________\n",
      "flatten_2 (Flatten)          (None, 288)               0         \n",
      "_________________________________________________________________\n",
      "dense_4 (Dense)              (None, 64)                18496     \n",
      "_________________________________________________________________\n",
      "dropout_8 (Dropout)          (None, 64)                0         \n",
      "_________________________________________________________________\n",
      "dense_5 (Dense)              (None, 10)                650       \n",
      "=================================================================\n",
      "Total params: 33,194\n",
      "Trainable params: 33,194\n",
      "Non-trainable params: 0\n",
      "_________________________________________________________________\n"
     ]
    }
   ],
   "source": [
    "model = createModel()\n",
    "model.summary()"
   ]
  },
  {
   "cell_type": "code",
   "execution_count": 17,
   "metadata": {},
   "outputs": [
    {
     "name": "stdout",
     "output_type": "stream",
     "text": [
      "WARNING:tensorflow:From <ipython-input-17-cad0215367d0>:14: Model.fit_generator (from tensorflow.python.keras.engine.training) is deprecated and will be removed in a future version.\n",
      "Instructions for updating:\n",
      "Please use Model.fit, which supports generators.\n",
      "WARNING:tensorflow:sample_weight modes were coerced from\n",
      "  ...\n",
      "    to  \n",
      "  ['...']\n"
     ]
    },
    {
     "name": "stderr",
     "output_type": "stream",
     "text": [
      "Using TensorFlow backend.\n"
     ]
    },
    {
     "name": "stdout",
     "output_type": "stream",
     "text": [
      "Train for 128 steps\n",
      "Epoch 1/50\n",
      "128/128 [==============================] - 12s 94ms/step - loss: 2.1983 - acc: 0.1987\n",
      "Epoch 2/50\n",
      "128/128 [==============================] - 10s 77ms/step - loss: 1.8122 - acc: 0.3616\n",
      "Epoch 3/50\n",
      "128/128 [==============================] - 11s 86ms/step - loss: 1.4385 - acc: 0.5093\n",
      "Epoch 4/50\n",
      "128/128 [==============================] - 10s 77ms/step - loss: 1.1786 - acc: 0.6010\n",
      "Epoch 5/50\n",
      "128/128 [==============================] - 10s 80ms/step - loss: 1.0360 - acc: 0.6559\n",
      "Epoch 6/50\n",
      "128/128 [==============================] - 10s 82ms/step - loss: 0.9066 - acc: 0.7004 0s - loss: 0.9075 - a\n",
      "Epoch 7/50\n",
      "128/128 [==============================] - 11s 83ms/step - loss: 0.8300 - acc: 0.7292\n",
      "Epoch 8/50\n",
      "128/128 [==============================] - 10s 81ms/step - loss: 0.7546 - acc: 0.7543\n",
      "Epoch 9/50\n",
      "128/128 [==============================] - 10s 80ms/step - loss: 0.7086 - acc: 0.7687\n",
      "Epoch 10/50\n",
      "128/128 [==============================] - 9s 72ms/step - loss: 0.6500 - acc: 0.7901\n",
      "Epoch 11/50\n",
      "128/128 [==============================] - 11s 85ms/step - loss: 0.6122 - acc: 0.8016\n",
      "Epoch 12/50\n",
      "128/128 [==============================] - 11s 87ms/step - loss: 0.5839 - acc: 0.8116\n",
      "Epoch 13/50\n",
      "128/128 [==============================] - 10s 80ms/step - loss: 0.5327 - acc: 0.8267\n",
      "Epoch 14/50\n",
      "128/128 [==============================] - 11s 83ms/step - loss: 0.5138 - acc: 0.8305\n",
      "Epoch 15/50\n",
      "128/128 [==============================] - 11s 85ms/step - loss: 0.4769 - acc: 0.8437\n",
      "Epoch 16/50\n",
      "128/128 [==============================] - 10s 81ms/step - loss: 0.4516 - acc: 0.8519\n",
      "Epoch 17/50\n",
      "128/128 [==============================] - 10s 79ms/step - loss: 0.4501 - acc: 0.8546\n",
      "Epoch 18/50\n",
      "128/128 [==============================] - 11s 84ms/step - loss: 0.4246 - acc: 0.8598\n",
      "Epoch 19/50\n",
      "128/128 [==============================] - 11s 86ms/step - loss: 0.4136 - acc: 0.8663\n",
      "Epoch 20/50\n",
      "128/128 [==============================] - 10s 81ms/step - loss: 0.3914 - acc: 0.8746\n",
      "Epoch 21/50\n",
      "128/128 [==============================] - 11s 86ms/step - loss: 0.3789 - acc: 0.8775\n",
      "Epoch 22/50\n",
      "128/128 [==============================] - 10s 81ms/step - loss: 0.3672 - acc: 0.8837\n",
      "Epoch 23/50\n",
      "128/128 [==============================] - 11s 86ms/step - loss: 0.3537 - acc: 0.8856\n",
      "Epoch 24/50\n",
      "128/128 [==============================] - 11s 85ms/step - loss: 0.3402 - acc: 0.8900\n",
      "Epoch 25/50\n",
      "128/128 [==============================] - 10s 79ms/step - loss: 0.3316 - acc: 0.8942\n",
      "Epoch 26/50\n",
      "128/128 [==============================] - 10s 80ms/step - loss: 0.3211 - acc: 0.8961\n",
      "Epoch 27/50\n",
      "128/128 [==============================] - 10s 82ms/step - loss: 0.3135 - acc: 0.8971\n",
      "Epoch 28/50\n",
      "128/128 [==============================] - 11s 83ms/step - loss: 0.2948 - acc: 0.9053\n",
      "Epoch 29/50\n",
      "128/128 [==============================] - 11s 84ms/step - loss: 0.2916 - acc: 0.9059\n",
      "Epoch 30/50\n",
      "128/128 [==============================] - 10s 82ms/step - loss: 0.2851 - acc: 0.9072\n",
      "Epoch 31/50\n",
      "128/128 [==============================] - 11s 84ms/step - loss: 0.2857 - acc: 0.9117\n",
      "Epoch 32/50\n",
      "128/128 [==============================] - 11s 83ms/step - loss: 0.2719 - acc: 0.9127\n",
      "Epoch 33/50\n",
      "128/128 [==============================] - 11s 85ms/step - loss: 0.2688 - acc: 0.9143\n",
      "Epoch 34/50\n",
      "128/128 [==============================] - 11s 87ms/step - loss: 0.2702 - acc: 0.9131\n",
      "Epoch 35/50\n",
      "128/128 [==============================] - 11s 84ms/step - loss: 0.2692 - acc: 0.9115\n",
      "Epoch 36/50\n",
      "128/128 [==============================] - 10s 76ms/step - loss: 0.2593 - acc: 0.9144\n",
      "Epoch 37/50\n",
      "128/128 [==============================] - 11s 83ms/step - loss: 0.2563 - acc: 0.9206\n",
      "Epoch 38/50\n",
      "128/128 [==============================] - 11s 83ms/step - loss: 0.2519 - acc: 0.9217\n",
      "Epoch 39/50\n",
      "128/128 [==============================] - 11s 86ms/step - loss: 0.2399 - acc: 0.9244\n",
      "Epoch 40/50\n",
      "128/128 [==============================] - 10s 80ms/step - loss: 0.2303 - acc: 0.9245\n",
      "Epoch 41/50\n",
      "128/128 [==============================] - 11s 84ms/step - loss: 0.2393 - acc: 0.9225\n",
      "Epoch 42/50\n",
      "128/128 [==============================] - 11s 85ms/step - loss: 0.2254 - acc: 0.9281\n",
      "Epoch 43/50\n",
      "128/128 [==============================] - 11s 86ms/step - loss: 0.2306 - acc: 0.9265\n",
      "Epoch 44/50\n",
      "128/128 [==============================] - 11s 85ms/step - loss: 0.2148 - acc: 0.9310\n",
      "Epoch 45/50\n",
      "128/128 [==============================] - 10s 82ms/step - loss: 0.2235 - acc: 0.9294 2s - loss:\n",
      "Epoch 46/50\n",
      "128/128 [==============================] - 11s 88ms/step - loss: 0.2174 - acc: 0.9324\n",
      "Epoch 47/50\n",
      "128/128 [==============================] - 10s 80ms/step - loss: 0.2192 - acc: 0.9307 \n",
      "Epoch 48/50\n",
      "128/128 [==============================] - 10s 80ms/step - loss: 0.2012 - acc: 0.9357\n",
      "Epoch 49/50\n",
      "128/128 [==============================] - 10s 79ms/step - loss: 0.2141 - acc: 0.9319\n",
      "Epoch 50/50\n",
      "128/128 [==============================] - 10s 81ms/step - loss: 0.1964 - acc: 0.9380\n"
     ]
    }
   ],
   "source": [
    "from keras.preprocessing.image import ImageDataGenerator\n",
    "\n",
    "gen = ImageDataGenerator(width_shift_range=3, height_shift_range=3, zoom_range=0.1, horizontal_flip=False)\n",
    "\n",
    "if False:\n",
    "    model.fit(\n",
    "        x_train.reshape(x_train.shape[0], x_train.shape[1], x_train.shape[2], 1),\n",
    "        y_train,\n",
    "        epochs=2000,\n",
    "        batch_size=256)\n",
    "else:\n",
    "    model.fit_generator(gen.flow(\n",
    "        x_train.reshape(x_train.shape[0], x_train.shape[1], x_train.shape[2], 1), \n",
    "        y_train, batch_size=128, shuffle=True), epochs=50, workers=8, steps_per_epoch=128)"
   ]
  },
  {
   "cell_type": "code",
   "execution_count": 12,
   "metadata": {},
   "outputs": [],
   "source": [
    "def predict(img):\n",
    "    result = model.predict(img.reshape(1, img.shape[0], img.shape[1], 1))\n",
    "    pred = np.argmax(result, axis = 1)[0]\n",
    "    convidence = result[0][pred]\n",
    "    return (pred, convidence)\n",
    "\n",
    "def predict_test(idx):\n",
    "    result = predict(x_test[idx])\n",
    "    pred = result[0]\n",
    "    convidence = result[1]\n",
    "    expect = y_test_arr[idx]\n",
    "    correct = expect == pred    \n",
    "    print(\"correct: \" + str(correct) + \n",
    "          \"; expcted: \" + str(expect) + \n",
    "          \"; predicted: \" + str(pred) + \n",
    "          \"; confidence: \" + str(round(convidence, 2)))\n",
    "    if not correct or convidence < 0.7:\n",
    "        plt.imshow(x_test[idx])\n",
    "        plt.show()\n",
    "for i in range(len(x_test_arr)):\n",
    "    predict_test(i)"
   ]
  },
  {
   "cell_type": "code",
   "execution_count": 18,
   "metadata": {},
   "outputs": [
    {
     "name": "stdout",
     "output_type": "stream",
     "text": [
      "(100%) -> 0\n"
     ]
    },
    {
     "data": {
      "image/png": "[encoded data removed]",
      "text/plain": [
       "<Figure size 432x288 with 1 Axes>"
      ]
     },
     "metadata": {
      "needs_background": "light"
     },
     "output_type": "display_data"
    },
    {
     "name": "stdout",
     "output_type": "stream",
     "text": [
      "(100%) -> 1\n"
     ]
    },
    {
     "data": {
      "image/png": "[encoded data removed]",
      "text/plain": [
       "<Figure size 432x288 with 1 Axes>"
      ]
     },
     "metadata": {
      "needs_background": "light"
     },
     "output_type": "display_data"
    },
    {
     "name": "stdout",
     "output_type": "stream",
     "text": [
      "(100%) -> 3\n"
     ]
    },
    {
     "data": {
      "image/png": "[encoded data removed]",
      "text/plain": [
       "<Figure size 432x288 with 1 Axes>"
      ]
     },
     "metadata": {
      "needs_background": "light"
     },
     "output_type": "display_data"
    },
    {
     "name": "stdout",
     "output_type": "stream",
     "text": [
      "(100%) -> 7\n"
     ]
    },
    {
     "data": {
      "image/png": "[encoded data removed]",
      "text/plain": [
       "<Figure size 432x288 with 1 Axes>"
      ]
     },
     "metadata": {
      "needs_background": "light"
     },
     "output_type": "display_data"
    },
    {
     "name": "stdout",
     "output_type": "stream",
     "text": [
      "(100%) -> 4\n"
     ]
    },
    {
     "data": {
      "image/png": "[encoded data removed]",
      "text/plain": [
       "<Figure size 432x288 with 1 Axes>"
      ]
     },
     "metadata": {
      "needs_background": "light"
     },
     "output_type": "display_data"
    }
   ],
   "source": [
    "custom_images = read_images(\"images/meter_digits2\")\n",
    "for img in custom_images:\n",
    "    result = predict(img)\n",
    "    print(\"(\" + str(round(result[1] * 100)) + \"%) -> \" + str(result[0]))\n",
    "    plt.imshow(img)\n",
    "    plt.show()"
   ]
  },
  {
   "cell_type": "code",
   "execution_count": 19,
   "metadata": {},
   "outputs": [
    {
     "name": "stdout",
     "output_type": "stream",
     "text": [
      "writing ocr_model_28x28.tflite\n",
      "Now you have to call the following in git bash: xxd -i ocr_model_28x28.tflite > ocr_model_28x28.c\n"
     ]
    }
   ],
   "source": [
    "import tensorflow as tf\n",
    "converter = tf.lite.TFLiteConverter.from_keras_model(model)\n",
    "tflite_model = converter.convert()\n",
    "filename = \"ocr_model_\" + str(input_width) + \"x\" + str(input_height)\n",
    "print(\"writing \" + filename + \".tflite\")\n",
    "open(filename + \".tflite\", \"wb\").write(tflite_model)\n",
    "print(\"Now you have to call the following in git bash: xxd -i \" + filename + \".tflite > \" + filename + \".c\")"
   ]
  },
  {
   "cell_type": "code",
   "execution_count": null,
   "metadata": {},
   "outputs": [],
   "source": []
  }
 ],
 "metadata": {
  "kernelspec": {
   "display_name": "Python 3",
   "language": "python",
   "name": "python3"
  },
  "language_info": {
   "codemirror_mode": {
    "name": "ipython",
    "version": 3
   },
   "file_extension": ".py",
   "mimetype": "text/x-python",
   "name": "python",
   "nbconvert_exporter": "python",
   "pygments_lexer": "ipython3",
   "version": "3.7.3"
  }
 },
 "nbformat": 4,
 "nbformat_minor": 2
}
