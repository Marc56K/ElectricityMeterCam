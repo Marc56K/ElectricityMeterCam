{
 "cells": [
  {
   "cell_type": "code",
   "execution_count": 1,
   "metadata": {},
   "outputs": [
    {
     "name": "stdout",
     "output_type": "stream",
     "text": [
      "<module 'tensorflow_core._api.v2.version' from 'C:\\\\ProgramData\\\\Anaconda3\\\\lib\\\\site-packages\\\\tensorflow_core\\\\_api\\\\v2\\\\version\\\\__init__.py'>\n"
     ]
    }
   ],
   "source": [
    "import os\n",
    "from PIL import Image\n",
    "import random\n",
    "import matplotlib.pyplot as plt\n",
    "import numpy as np\n",
    "from tensorflow.keras.utils import to_categorical\n",
    "from tensorflow.keras.models import Sequential\n",
    "from tensorflow.keras.layers import Dense, Conv2D, Flatten, MaxPooling2D, Dropout\n",
    "import tensorflow as tf; \n",
    "print(tf.version)"
   ]
  },
  {
   "cell_type": "code",
   "execution_count": 2,
   "metadata": {},
   "outputs": [],
   "source": [
    "input_width = 28\n",
    "input_height = 28\n",
    "output_classes = 11"
   ]
  },
  {
   "cell_type": "code",
   "execution_count": 3,
   "metadata": {},
   "outputs": [
    {
     "name": "stdout",
     "output_type": "stream",
     "text": [
      "Digit: 0; Images: 824\n",
      "Digit: 1; Images: 807\n",
      "Digit: 2; Images: 266\n",
      "Digit: 3; Images: 943\n",
      "Digit: 4; Images: 278\n",
      "Digit: 5; Images: 173\n",
      "Digit: 6; Images: 250\n",
      "Digit: 7; Images: 324\n",
      "Digit: 8; Images: 621\n",
      "Digit: 9; Images: 255\n",
      "Digit: 10; Images: 396\n"
     ]
    }
   ],
   "source": [
    "%matplotlib inline\n",
    "\n",
    "def read_image(filePath):\n",
    "    image = Image.open(filePath)\n",
    "\n",
    "    # https://pillow.readthedocs.io/en/3.1.x/reference/Image.html#PIL.Image.Image.resize\n",
    "    image = image.resize((input_width, input_height), Image.LANCZOS)\n",
    "\n",
    "    # https://pillow.readthedocs.io/en/3.1.x/reference/Image.html#PIL.Image.Image.convert\n",
    "    image = image.convert(\"L\")\n",
    "\n",
    "    image = np.asarray(image)\n",
    "\n",
    "    return np.asarray(image).astype(np.float32) / 255.\n",
    "\n",
    "def read_images(path):\n",
    "    files = os.listdir(path)    \n",
    "    files = [file for file in files if file[-4:] == \".png\"]\n",
    "    random.shuffle(files)\n",
    "    images = []\n",
    "    for file in files:\n",
    "        try:\n",
    "            images.append(read_image(os.path.join(path, file)))\n",
    "        except OSError:\n",
    "            pass\n",
    "    \n",
    "    return images\n",
    "\n",
    "test_samples_per_digit = 10\n",
    "x_train_arr = []\n",
    "y_train_arr = []\n",
    "x_test_arr = []\n",
    "y_test_arr = []\n",
    "for i in range(output_classes):\n",
    "    images = read_images(\"images/labeled/\" + str(i))\n",
    "    print(\"Digit: \" + str(i) + \"; Images: \" + str(len(images)))\n",
    "    #plt.imshow(images[0])\n",
    "    #plt.show()\n",
    "    idx = 0\n",
    "    for image in images:\n",
    "        if idx < test_samples_per_digit:\n",
    "            x_test_arr.append(image)\n",
    "            y_test_arr.append(i)  \n",
    "        else:\n",
    "            x_train_arr.append(image)\n",
    "            y_train_arr.append(i)\n",
    "        idx = idx + 1\n",
    "    \n",
    "# convert to numpy types\n",
    "x_train = np.asarray(x_train_arr)#.astype(np.float32) / 255.\n",
    "y_train = to_categorical(y_train_arr)\n",
    "x_test = []\n",
    "y_test = []\n",
    "if test_samples_per_digit > 0:\n",
    "    x_test = np.asarray(x_test_arr)#.astype(np.float32) / 255.\n",
    "    y_test = to_categorical(y_test_arr)\n",
    "#print(\"x_train: \" + str(x_train))\n",
    "#print(\"y_train: \" + str(y_train))\n",
    "#print(\"##########################\")\n",
    "#print(\"x_test: \" + str(x_test))\n",
    "#print(\"y_test: \" + str(y_test))"
   ]
  },
  {
   "cell_type": "code",
   "execution_count": 4,
   "metadata": {},
   "outputs": [],
   "source": [
    "def createModel():\n",
    "    model = Sequential()\n",
    "    model.add(Conv2D(16, (3, 3), activation = 'relu', input_shape = (input_height, input_width, 1)))\n",
    "    model.add(MaxPooling2D(2, 2))\n",
    "    model.add(Dropout(0.5))\n",
    "    model.add(Conv2D(32, (3, 3), activation = 'relu'))\n",
    "    model.add(MaxPooling2D(2, 2))\n",
    "    model.add(Dropout(0.5))\n",
    "    model.add(Conv2D(32, (3, 3), activation = 'relu'))\n",
    "    model.add(Flatten())\n",
    "    model.add(Dense(64, activation = 'relu'))\n",
    "    model.add(Dropout(0.5))\n",
    "    model.add(Dense(output_classes, activation = 'softmax'))\n",
    "\n",
    "    model.compile(optimizer=\"rmsprop\", loss=\"categorical_crossentropy\", metrics=[\"acc\"])\n",
    "    return model"
   ]
  },
  {
   "cell_type": "code",
   "execution_count": 5,
   "metadata": {
    "scrolled": true
   },
   "outputs": [
    {
     "name": "stdout",
     "output_type": "stream",
     "text": [
      "Model: \"sequential\"\n",
      "_________________________________________________________________\n",
      "Layer (type)                 Output Shape              Param #   \n",
      "=================================================================\n",
      "conv2d (Conv2D)              (None, 26, 26, 16)        160       \n",
      "_________________________________________________________________\n",
      "max_pooling2d (MaxPooling2D) (None, 13, 13, 16)        0         \n",
      "_________________________________________________________________\n",
      "dropout (Dropout)            (None, 13, 13, 16)        0         \n",
      "_________________________________________________________________\n",
      "conv2d_1 (Conv2D)            (None, 11, 11, 32)        4640      \n",
      "_________________________________________________________________\n",
      "max_pooling2d_1 (MaxPooling2 (None, 5, 5, 32)          0         \n",
      "_________________________________________________________________\n",
      "dropout_1 (Dropout)          (None, 5, 5, 32)          0         \n",
      "_________________________________________________________________\n",
      "conv2d_2 (Conv2D)            (None, 3, 3, 32)          9248      \n",
      "_________________________________________________________________\n",
      "flatten (Flatten)            (None, 288)               0         \n",
      "_________________________________________________________________\n",
      "dense (Dense)                (None, 64)                18496     \n",
      "_________________________________________________________________\n",
      "dropout_2 (Dropout)          (None, 64)                0         \n",
      "_________________________________________________________________\n",
      "dense_1 (Dense)              (None, 11)                715       \n",
      "=================================================================\n",
      "Total params: 33,259\n",
      "Trainable params: 33,259\n",
      "Non-trainable params: 0\n",
      "_________________________________________________________________\n"
     ]
    }
   ],
   "source": [
    "model = createModel()\n",
    "model.summary()"
   ]
  },
  {
   "cell_type": "code",
   "execution_count": 6,
   "metadata": {},
   "outputs": [
    {
     "name": "stdout",
     "output_type": "stream",
     "text": [
      "WARNING:tensorflow:From <ipython-input-6-138febf01513>:14: Model.fit_generator (from tensorflow.python.keras.engine.training) is deprecated and will be removed in a future version.\n",
      "Instructions for updating:\n",
      "Please use Model.fit, which supports generators.\n",
      "WARNING:tensorflow:sample_weight modes were coerced from\n",
      "  ...\n",
      "    to  \n",
      "  ['...']\n"
     ]
    },
    {
     "name": "stderr",
     "output_type": "stream",
     "text": [
      "Using TensorFlow backend.\n"
     ]
    },
    {
     "name": "stdout",
     "output_type": "stream",
     "text": [
      "Train for 256 steps\n",
      "Epoch 1/50\n",
      "256/256 [==============================] - 24s 93ms/step - loss: 1.3320 - acc: 0.5737\n",
      "Epoch 2/50\n",
      "256/256 [==============================] - 20s 78ms/step - loss: 0.6083 - acc: 0.8160\n",
      "Epoch 3/50\n",
      "256/256 [==============================] - 20s 78ms/step - loss: 0.4505 - acc: 0.8640\n",
      "Epoch 4/50\n",
      "256/256 [==============================] - 21s 81ms/step - loss: 0.3675 - acc: 0.8874\n",
      "Epoch 5/50\n",
      "256/256 [==============================] - 20s 77ms/step - loss: 0.3139 - acc: 0.9039\n",
      "Epoch 6/50\n",
      "256/256 [==============================] - 19s 73ms/step - loss: 0.2787 - acc: 0.9172\n",
      "Epoch 7/50\n",
      "256/256 [==============================] - 19s 75ms/step - loss: 0.2464 - acc: 0.9252\n",
      "Epoch 8/50\n",
      "256/256 [==============================] - 20s 80ms/step - loss: 0.2290 - acc: 0.9306\n",
      "Epoch 9/50\n",
      "256/256 [==============================] - 19s 76ms/step - loss: 0.2124 - acc: 0.9364\n",
      "Epoch 10/50\n",
      "256/256 [==============================] - 20s 79ms/step - loss: 0.1992 - acc: 0.9392\n",
      "Epoch 11/50\n",
      "256/256 [==============================] - 22s 85ms/step - loss: 0.1902 - acc: 0.9431\n",
      "Epoch 12/50\n",
      "256/256 [==============================] - 20s 80ms/step - loss: 0.1789 - acc: 0.9455\n",
      "Epoch 13/50\n",
      "256/256 [==============================] - 20s 77ms/step - loss: 0.1723 - acc: 0.9481\n",
      "Epoch 14/50\n",
      "256/256 [==============================] - 19s 76ms/step - loss: 0.1695 - acc: 0.9492\n",
      "Epoch 15/50\n",
      "256/256 [==============================] - 19s 74ms/step - loss: 0.1585 - acc: 0.9502\n",
      "Epoch 16/50\n",
      "256/256 [==============================] - 21s 82ms/step - loss: 0.1522 - acc: 0.9556\n",
      "Epoch 17/50\n",
      "256/256 [==============================] - 19s 75ms/step - loss: 0.1467 - acc: 0.9555\n",
      "Epoch 18/50\n",
      "256/256 [==============================] - 21s 82ms/step - loss: 0.1444 - acc: 0.9562\n",
      "Epoch 19/50\n",
      "256/256 [==============================] - 18s 71ms/step - loss: 0.1431 - acc: 0.9574\n",
      "Epoch 20/50\n",
      "256/256 [==============================] - 20s 77ms/step - loss: 0.1373 - acc: 0.9580\n",
      "Epoch 21/50\n",
      "256/256 [==============================] - 19s 74ms/step - loss: 0.1375 - acc: 0.9590\n",
      "Epoch 22/50\n",
      "256/256 [==============================] - 20s 80ms/step - loss: 0.1273 - acc: 0.9617\n",
      "Epoch 23/50\n",
      "256/256 [==============================] - 19s 75ms/step - loss: 0.1302 - acc: 0.9594\n",
      "Epoch 24/50\n",
      "256/256 [==============================] - 21s 81ms/step - loss: 0.1292 - acc: 0.9609\n",
      "Epoch 25/50\n",
      "256/256 [==============================] - 20s 77ms/step - loss: 0.1261 - acc: 0.9615\n",
      "Epoch 26/50\n",
      "256/256 [==============================] - 21s 82ms/step - loss: 0.1224 - acc: 0.9639\n",
      "Epoch 27/50\n",
      "256/256 [==============================] - 20s 77ms/step - loss: 0.1214 - acc: 0.9618\n",
      "Epoch 28/50\n",
      "256/256 [==============================] - 20s 77ms/step - loss: 0.1162 - acc: 0.9645\n",
      "Epoch 29/50\n",
      "256/256 [==============================] - 20s 78ms/step - loss: 0.1197 - acc: 0.9643\n",
      "Epoch 30/50\n",
      "256/256 [==============================] - 19s 75ms/step - loss: 0.1253 - acc: 0.9631\n",
      "Epoch 31/50\n",
      "256/256 [==============================] - 21s 80ms/step - loss: 0.1184 - acc: 0.9662\n",
      "Epoch 32/50\n",
      "256/256 [==============================] - 21s 81ms/step - loss: 0.1227 - acc: 0.9642\n",
      "Epoch 33/50\n",
      "256/256 [==============================] - 20s 78ms/step - loss: 0.1182 - acc: 0.9650\n",
      "Epoch 34/50\n",
      "256/256 [==============================] - 20s 78ms/step - loss: 0.1191 - acc: 0.9643\n",
      "Epoch 35/50\n",
      "256/256 [==============================] - 21s 82ms/step - loss: 0.1223 - acc: 0.9649\n",
      "Epoch 36/50\n",
      "256/256 [==============================] - 21s 80ms/step - loss: 0.1207 - acc: 0.9644\n",
      "Epoch 37/50\n",
      "256/256 [==============================] - 20s 80ms/step - loss: 0.1154 - acc: 0.9651\n",
      "Epoch 38/50\n",
      "256/256 [==============================] - 21s 84ms/step - loss: 0.1218 - acc: 0.9641\n",
      "Epoch 39/50\n",
      "256/256 [==============================] - 20s 80ms/step - loss: 0.1146 - acc: 0.9670\n",
      "Epoch 40/50\n",
      "256/256 [==============================] - 20s 80ms/step - loss: 0.1176 - acc: 0.9659\n",
      "Epoch 41/50\n",
      "256/256 [==============================] - 20s 78ms/step - loss: 0.1189 - acc: 0.9650\n",
      "Epoch 42/50\n",
      "256/256 [==============================] - 21s 82ms/step - loss: 0.1220 - acc: 0.9649\n",
      "Epoch 43/50\n",
      "256/256 [==============================] - 22s 84ms/step - loss: 0.1269 - acc: 0.9637\n",
      "Epoch 44/50\n",
      "256/256 [==============================] - 20s 77ms/step - loss: 0.1202 - acc: 0.9663\n",
      "Epoch 45/50\n",
      "256/256 [==============================] - 20s 78ms/step - loss: 0.1191 - acc: 0.9656\n",
      "Epoch 46/50\n",
      "256/256 [==============================] - 21s 82ms/step - loss: 0.1207 - acc: 0.9639\n",
      "Epoch 47/50\n",
      "256/256 [==============================] - 20s 79ms/step - loss: 0.1196 - acc: 0.9650\n",
      "Epoch 48/50\n",
      "256/256 [==============================] - 20s 77ms/step - loss: 0.1210 - acc: 0.9648\n",
      "Epoch 49/50\n",
      "256/256 [==============================] - 20s 79ms/step - loss: 0.1225 - acc: 0.9644\n",
      "Epoch 50/50\n",
      "256/256 [==============================] - 20s 79ms/step - loss: 0.1256 - acc: 0.9644\n"
     ]
    }
   ],
   "source": [
    "from keras.preprocessing.image import ImageDataGenerator\n",
    "\n",
    "gen = ImageDataGenerator(width_shift_range=3, height_shift_range=3, zoom_range=0.1, horizontal_flip=False)\n",
    "\n",
    "if False:\n",
    "    model.fit(\n",
    "        x_train.reshape(x_train.shape[0], x_train.shape[1], x_train.shape[2], 1),\n",
    "        y_train,\n",
    "        epochs=2000,\n",
    "        batch_size=256)\n",
    "else:\n",
    "    model.fit_generator(gen.flow(\n",
    "        x_train.reshape(x_train.shape[0], x_train.shape[1], x_train.shape[2], 1), \n",
    "        y_train, batch_size=128, shuffle=True), epochs=50, workers=8, steps_per_epoch=256)"
   ]
  },
  {
   "cell_type": "code",
   "execution_count": 7,
   "metadata": {},
   "outputs": [
    {
     "name": "stdout",
     "output_type": "stream",
     "text": [
      "correct: True; expcted: 0; predicted: 0; confidence: 1.0\n",
      "correct: True; expcted: 0; predicted: 0; confidence: 1.0\n",
      "correct: True; expcted: 0; predicted: 0; confidence: 1.0\n",
      "correct: True; expcted: 0; predicted: 0; confidence: 1.0\n",
      "correct: True; expcted: 0; predicted: 0; confidence: 0.99\n",
      "correct: True; expcted: 0; predicted: 0; confidence: 1.0\n",
      "correct: True; expcted: 0; predicted: 0; confidence: 1.0\n",
      "correct: True; expcted: 0; predicted: 0; confidence: 1.0\n",
      "correct: True; expcted: 0; predicted: 0; confidence: 1.0\n",
      "correct: True; expcted: 0; predicted: 0; confidence: 1.0\n",
      "correct: True; expcted: 1; predicted: 1; confidence: 1.0\n",
      "correct: True; expcted: 1; predicted: 1; confidence: 1.0\n",
      "correct: False; expcted: 1; predicted: 3; confidence: 0.56\n"
     ]
    },
    {
     "data": {
      "image/png": "[encoded data removed]",
      "text/plain": [
       "<Figure size 432x288 with 1 Axes>"
      ]
     },
     "metadata": {
      "needs_background": "light"
     },
     "output_type": "display_data"
    },
    {
     "name": "stdout",
     "output_type": "stream",
     "text": [
      "correct: True; expcted: 1; predicted: 1; confidence: 1.0\n",
      "correct: True; expcted: 1; predicted: 1; confidence: 0.56\n"
     ]
    },
    {
     "data": {
      "image/png": "[encoded data removed]",
      "text/plain": [
       "<Figure size 432x288 with 1 Axes>"
      ]
     },
     "metadata": {
      "needs_background": "light"
     },
     "output_type": "display_data"
    },
    {
     "name": "stdout",
     "output_type": "stream",
     "text": [
      "correct: True; expcted: 1; predicted: 1; confidence: 1.0\n",
      "correct: True; expcted: 1; predicted: 1; confidence: 1.0\n",
      "correct: True; expcted: 1; predicted: 1; confidence: 1.0\n",
      "correct: True; expcted: 1; predicted: 1; confidence: 1.0\n",
      "correct: True; expcted: 1; predicted: 1; confidence: 1.0\n",
      "correct: True; expcted: 2; predicted: 2; confidence: 1.0\n",
      "correct: True; expcted: 2; predicted: 2; confidence: 0.96\n",
      "correct: True; expcted: 2; predicted: 2; confidence: 1.0\n",
      "correct: True; expcted: 2; predicted: 2; confidence: 1.0\n",
      "correct: True; expcted: 2; predicted: 2; confidence: 1.0\n",
      "correct: True; expcted: 2; predicted: 2; confidence: 0.95\n",
      "correct: True; expcted: 2; predicted: 2; confidence: 1.0\n",
      "correct: True; expcted: 2; predicted: 2; confidence: 1.0\n",
      "correct: True; expcted: 2; predicted: 2; confidence: 0.45\n"
     ]
    },
    {
     "data": {
      "image/png": "[encoded data removed]",
      "text/plain": [
       "<Figure size 432x288 with 1 Axes>"
      ]
     },
     "metadata": {
      "needs_background": "light"
     },
     "output_type": "display_data"
    },
    {
     "name": "stdout",
     "output_type": "stream",
     "text": [
      "correct: True; expcted: 2; predicted: 2; confidence: 1.0\n",
      "correct: True; expcted: 3; predicted: 3; confidence: 1.0\n",
      "correct: True; expcted: 3; predicted: 3; confidence: 1.0\n",
      "correct: True; expcted: 3; predicted: 3; confidence: 1.0\n",
      "correct: True; expcted: 3; predicted: 3; confidence: 1.0\n",
      "correct: True; expcted: 3; predicted: 3; confidence: 1.0\n",
      "correct: True; expcted: 3; predicted: 3; confidence: 1.0\n",
      "correct: True; expcted: 3; predicted: 3; confidence: 1.0\n",
      "correct: True; expcted: 3; predicted: 3; confidence: 1.0\n",
      "correct: True; expcted: 3; predicted: 3; confidence: 1.0\n",
      "correct: True; expcted: 3; predicted: 3; confidence: 1.0\n",
      "correct: True; expcted: 4; predicted: 4; confidence: 1.0\n",
      "correct: True; expcted: 4; predicted: 4; confidence: 1.0\n",
      "correct: True; expcted: 4; predicted: 4; confidence: 1.0\n",
      "correct: True; expcted: 4; predicted: 4; confidence: 1.0\n",
      "correct: True; expcted: 4; predicted: 4; confidence: 1.0\n",
      "correct: True; expcted: 4; predicted: 4; confidence: 1.0\n",
      "correct: True; expcted: 4; predicted: 4; confidence: 1.0\n",
      "correct: True; expcted: 4; predicted: 4; confidence: 1.0\n",
      "correct: True; expcted: 4; predicted: 4; confidence: 0.99\n",
      "correct: True; expcted: 4; predicted: 4; confidence: 1.0\n",
      "correct: True; expcted: 5; predicted: 5; confidence: 1.0\n",
      "correct: True; expcted: 5; predicted: 5; confidence: 1.0\n",
      "correct: True; expcted: 5; predicted: 5; confidence: 1.0\n",
      "correct: False; expcted: 5; predicted: 3; confidence: 0.3\n"
     ]
    },
    {
     "data": {
      "image/png": "[encoded data removed]",
      "text/plain": [
       "<Figure size 432x288 with 1 Axes>"
      ]
     },
     "metadata": {
      "needs_background": "light"
     },
     "output_type": "display_data"
    },
    {
     "name": "stdout",
     "output_type": "stream",
     "text": [
      "correct: True; expcted: 5; predicted: 5; confidence: 0.71\n",
      "correct: True; expcted: 5; predicted: 5; confidence: 1.0\n",
      "correct: True; expcted: 5; predicted: 5; confidence: 1.0\n",
      "correct: True; expcted: 5; predicted: 5; confidence: 0.8\n",
      "correct: True; expcted: 5; predicted: 5; confidence: 0.99\n",
      "correct: True; expcted: 5; predicted: 5; confidence: 1.0\n",
      "correct: True; expcted: 6; predicted: 6; confidence: 1.0\n",
      "correct: True; expcted: 6; predicted: 6; confidence: 1.0\n",
      "correct: True; expcted: 6; predicted: 6; confidence: 0.98\n",
      "correct: True; expcted: 6; predicted: 6; confidence: 1.0\n",
      "correct: True; expcted: 6; predicted: 6; confidence: 1.0\n",
      "correct: True; expcted: 6; predicted: 6; confidence: 0.95\n",
      "correct: True; expcted: 6; predicted: 6; confidence: 1.0\n",
      "correct: True; expcted: 6; predicted: 6; confidence: 1.0\n",
      "correct: True; expcted: 6; predicted: 6; confidence: 1.0\n",
      "correct: True; expcted: 6; predicted: 6; confidence: 1.0\n",
      "correct: True; expcted: 7; predicted: 7; confidence: 1.0\n",
      "correct: True; expcted: 7; predicted: 7; confidence: 1.0\n",
      "correct: True; expcted: 7; predicted: 7; confidence: 1.0\n",
      "correct: True; expcted: 7; predicted: 7; confidence: 1.0\n",
      "correct: True; expcted: 7; predicted: 7; confidence: 1.0\n",
      "correct: True; expcted: 7; predicted: 7; confidence: 1.0\n",
      "correct: True; expcted: 7; predicted: 7; confidence: 1.0\n",
      "correct: True; expcted: 7; predicted: 7; confidence: 1.0\n",
      "correct: True; expcted: 7; predicted: 7; confidence: 1.0\n",
      "correct: True; expcted: 7; predicted: 7; confidence: 1.0\n",
      "correct: True; expcted: 8; predicted: 8; confidence: 1.0\n",
      "correct: True; expcted: 8; predicted: 8; confidence: 1.0\n",
      "correct: True; expcted: 8; predicted: 8; confidence: 1.0\n",
      "correct: True; expcted: 8; predicted: 8; confidence: 1.0\n",
      "correct: True; expcted: 8; predicted: 8; confidence: 1.0\n",
      "correct: True; expcted: 8; predicted: 8; confidence: 1.0\n",
      "correct: True; expcted: 8; predicted: 8; confidence: 1.0\n",
      "correct: True; expcted: 8; predicted: 8; confidence: 1.0\n",
      "correct: True; expcted: 8; predicted: 8; confidence: 1.0\n",
      "correct: True; expcted: 8; predicted: 8; confidence: 1.0\n",
      "correct: True; expcted: 9; predicted: 9; confidence: 1.0\n",
      "correct: True; expcted: 9; predicted: 9; confidence: 1.0\n",
      "correct: True; expcted: 9; predicted: 9; confidence: 0.96\n",
      "correct: True; expcted: 9; predicted: 9; confidence: 1.0\n",
      "correct: True; expcted: 9; predicted: 9; confidence: 1.0\n",
      "correct: True; expcted: 9; predicted: 9; confidence: 0.99\n",
      "correct: True; expcted: 9; predicted: 9; confidence: 0.91\n",
      "correct: True; expcted: 9; predicted: 9; confidence: 0.99\n",
      "correct: True; expcted: 9; predicted: 9; confidence: 1.0\n",
      "correct: True; expcted: 9; predicted: 9; confidence: 0.9\n",
      "correct: True; expcted: 10; predicted: 10; confidence: 0.99\n",
      "correct: True; expcted: 10; predicted: 10; confidence: 1.0\n",
      "correct: True; expcted: 10; predicted: 10; confidence: 1.0\n",
      "correct: True; expcted: 10; predicted: 10; confidence: 1.0\n",
      "correct: True; expcted: 10; predicted: 10; confidence: 1.0\n",
      "correct: True; expcted: 10; predicted: 10; confidence: 0.75\n",
      "correct: True; expcted: 10; predicted: 10; confidence: 1.0\n",
      "correct: True; expcted: 10; predicted: 10; confidence: 1.0\n",
      "correct: True; expcted: 10; predicted: 10; confidence: 1.0\n",
      "correct: True; expcted: 10; predicted: 10; confidence: 1.0\n"
     ]
    }
   ],
   "source": [
    "def predict(img):\n",
    "    result = model.predict(img.reshape(1, img.shape[0], img.shape[1], 1))\n",
    "    pred = np.argmax(result, axis = 1)[0]\n",
    "    convidence = result[0][pred]\n",
    "    return (pred, convidence)\n",
    "\n",
    "def predict_test(idx):\n",
    "    result = predict(x_test[idx])\n",
    "    pred = result[0]\n",
    "    convidence = result[1]\n",
    "    expect = y_test_arr[idx]\n",
    "    correct = expect == pred    \n",
    "    print(\"correct: \" + str(correct) + \n",
    "          \"; expcted: \" + str(expect) + \n",
    "          \"; predicted: \" + str(pred) + \n",
    "          \"; confidence: \" + str(round(convidence, 2)))\n",
    "    if not correct or convidence < 0.7:\n",
    "        plt.imshow(x_test[idx])\n",
    "        plt.show()\n",
    "for i in range(len(x_test_arr)):\n",
    "    predict_test(i)"
   ]
  },
  {
   "cell_type": "code",
   "execution_count": 8,
   "metadata": {},
   "outputs": [
    {
     "name": "stdout",
     "output_type": "stream",
     "text": [
      "writing ocr_model_28x28_c11.tflite\n",
      "Now you have to call the following in git bash: xxd -i ocr_model_28x28_c11.tflite > ocr_model_28x28_c11.c\n"
     ]
    }
   ],
   "source": [
    "import tensorflow as tf\n",
    "converter = tf.lite.TFLiteConverter.from_keras_model(model)\n",
    "tflite_model = converter.convert()\n",
    "filename = \"ocr_model_\" + str(input_width) + \"x\" + str(input_height) + \"_c\" + str(output_classes)\n",
    "print(\"writing \" + filename + \".tflite\")\n",
    "open(filename + \".tflite\", \"wb\").write(tflite_model)\n",
    "print(\"Now you have to call the following in git bash: xxd -i \" + filename + \".tflite > \" + filename + \".c\")"
   ]
  },
  {
   "cell_type": "code",
   "execution_count": null,
   "metadata": {},
   "outputs": [],
   "source": []
  }
 ],
 "metadata": {
  "kernelspec": {
   "display_name": "Python 3",
   "language": "python",
   "name": "python3"
  },
  "language_info": {
   "codemirror_mode": {
    "name": "ipython",
    "version": 3
   },
   "file_extension": ".py",
   "mimetype": "text/x-python",
   "name": "python",
   "nbconvert_exporter": "python",
   "pygments_lexer": "ipython3",
   "version": "3.7.3"
  }
 },
 "nbformat": 4,
 "nbformat_minor": 2
}
