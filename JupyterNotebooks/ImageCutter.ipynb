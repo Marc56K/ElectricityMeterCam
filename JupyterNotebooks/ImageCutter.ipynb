{
 "cells": [
  {
   "cell_type": "code",
   "execution_count": 1,
   "metadata": {},
   "outputs": [
    {
     "name": "stderr",
     "output_type": "stream",
     "text": [
      "100%|██████████| 10269/10269 [00:12<00:00, 855.51it/s]\n"
     ]
    }
   ],
   "source": [
    "import matplotlib.pyplot as plt\n",
    "from training_set_utils import *\n",
    "\n",
    "%matplotlib inline\n",
    "\n",
    "digits = load_from_captured(\"I:/Temp/viktor/getbboxes.json\", \"I:/Temp/viktor/\")"
   ]
  },
  {
   "cell_type": "code",
   "execution_count": 12,
   "metadata": {},
   "outputs": [
    {
     "name": "stderr",
     "output_type": "stream",
     "text": [
      "  0%|          | 2/71883 [00:00<1:13:00, 16.41it/s]"
     ]
    },
    {
     "name": "stdout",
     "output_type": "stream",
     "text": [
      "loading 1620070357_weights_28x28_c10_acc0.97.h5\n"
     ]
    },
    {
     "name": "stderr",
     "output_type": "stream",
     "text": [
      "100%|██████████| 71883/71883 [43:13<00:00, 27.72it/s]  \n"
     ]
    }
   ],
   "source": [
    "from ocr_model import *\n",
    "from tqdm import *\n",
    "import os\n",
    "import uuid\n",
    "\n",
    "model = OcrModel()\n",
    "model.load_weights()\n",
    "\n",
    "output_dir = \"images/cropped/\"\n",
    "for i, digit in enumerate(tqdm(digits)):\n",
    "    #plt.imshow(digit[0])\n",
    "    #plt.show()\n",
    "    pred_arr = model.predict(digit[0])\n",
    "    pred = np.argmax(pred_arr)\n",
    "    conf = round(pred_arr[pred], 1)\n",
    "    dir_path = output_dir + \"/\" + str(pred)\n",
    "    if not os.path.isdir(dir_path):\n",
    "        os.mkdir(dir_path)\n",
    "    fname = dir_path + \"/\" + str(conf) + \" \" + str(uuid.uuid4()) + \".png\"\n",
    "    digit[0].save(fname)"
   ]
  },
  {
   "cell_type": "code",
   "execution_count": null,
   "metadata": {},
   "outputs": [],
   "source": []
  }
 ],
 "metadata": {
  "kernelspec": {
   "display_name": "Python 3",
   "language": "python",
   "name": "python3"
  },
  "language_info": {
   "codemirror_mode": {
    "name": "ipython",
    "version": 3
   },
   "file_extension": ".py",
   "mimetype": "text/x-python",
   "name": "python",
   "nbconvert_exporter": "python",
   "pygments_lexer": "ipython3",
   "version": "3.7.3"
  }
 },
 "nbformat": 4,
 "nbformat_minor": 4
}