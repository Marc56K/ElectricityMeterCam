{
 "cells": [
  {
   "cell_type": "code",
   "execution_count": 1,
   "metadata": {},
   "outputs": [
    {
     "name": "stderr",
     "output_type": "stream",
     "text": [
      "Using TensorFlow backend.\n"
     ]
    },
    {
     "name": "stdout",
     "output_type": "stream",
     "text": [
      "loading 1620065590_weights_28x28_c10_acc0.97.h5\n"
     ]
    }
   ],
   "source": [
    "import os\n",
    "import random\n",
    "import numpy as np\n",
    "import tensorflow as tf;\n",
    "import matplotlib.pyplot as plt\n",
    "from tqdm import *\n",
    "from ocr_model import *\n",
    "from image_utils import *\n",
    "from random import randint\n",
    "from training_set_utils import *\n",
    "from PIL import Image, ImageEnhance, ImageOps\n",
    "\n",
    "model = OcrModel()\n",
    "model.load_weights()"
   ]
  },
  {
   "cell_type": "code",
   "execution_count": 6,
   "metadata": {},
   "outputs": [
    {
     "data": {
      "image/png": "[encoded data removed]",
      "text/plain": [
       "<Figure size 432x288 with 1 Axes>"
      ]
     },
     "metadata": {
      "needs_background": "light"
     },
     "output_type": "display_data"
    },
    {
     "data": {
      "image/png": "[encoded data removed]",
      "text/plain": [
       "<Figure size 432x288 with 1 Axes>"
      ]
     },
     "metadata": {
      "needs_background": "light"
     },
     "output_type": "display_data"
    }
   ],
   "source": [
    "%matplotlib inline\n",
    "data_set = create_from_atlas_dir(\"images/atlas/\", 24, 40)"
   ]
  },
  {
   "cell_type": "code",
   "execution_count": 7,
   "metadata": {},
   "outputs": [
    {
     "name": "stderr",
     "output_type": "stream",
     "text": [
      "100%|██████████| 800/800 [03:36<00:00,  3.69it/s]\n"
     ]
    }
   ],
   "source": [
    "%matplotlib inline\n",
    "data_set = create_variations(data_set)"
   ]
  },
  {
   "cell_type": "code",
   "execution_count": 8,
   "metadata": {},
   "outputs": [
    {
     "name": "stderr",
     "output_type": "stream",
     "text": [
      "100%|██████████| 837/837 [00:00<00:00, 6866.95it/s]\n",
      "100%|██████████| 762/762 [00:00<00:00, 7128.02it/s]\n",
      "100%|██████████| 270/270 [00:00<00:00, 6929.13it/s]\n",
      "100%|██████████| 959/959 [00:00<00:00, 7006.58it/s]\n",
      "100%|██████████| 316/316 [00:00<00:00, 6875.69it/s]\n",
      "100%|██████████| 196/196 [00:00<00:00, 6410.01it/s]\n",
      "100%|██████████| 272/272 [00:00<00:00, 6640.30it/s]\n",
      "100%|██████████| 355/355 [00:00<00:00, 6792.26it/s]\n",
      "100%|██████████| 632/632 [00:00<00:00, 6785.82it/s]\n",
      "100%|██████████| 266/266 [00:00<00:00, 6655.84it/s]"
     ]
    },
    {
     "name": "stdout",
     "output_type": "stream",
     "text": [
      "2644865\n"
     ]
    },
    {
     "name": "stderr",
     "output_type": "stream",
     "text": [
      "\n"
     ]
    }
   ],
   "source": [
    "%matplotlib inline\n",
    "data_set = data_set + create_from_labeled_dir(\"images/labeled/\")\n",
    "print(len(data_set))"
   ]
  },
  {
   "cell_type": "code",
   "execution_count": 9,
   "metadata": {},
   "outputs": [
    {
     "name": "stderr",
     "output_type": "stream",
     "text": [
      "100%|██████████| 100/100 [00:00<00:00, 10008.60it/s]\n",
      "100%|██████████| 2644765/2644765 [05:17<00:00, 8335.87it/s]\n"
     ]
    }
   ],
   "source": [
    "%matplotlib inline\n",
    "\n",
    "random.shuffle(data_set)\n",
    "\n",
    "num_test_data = 100\n",
    "test_set = data_set[:num_test_data]\n",
    "test_xy = model.convert_data_set(test_set)\n",
    "\n",
    "train_set = data_set[num_test_data:]\n",
    "train_xy = model.convert_data_set(train_set)\n",
    "\n",
    "train_set = None\n",
    "data_set = None"
   ]
  },
  {
   "cell_type": "code",
   "execution_count": 10,
   "metadata": {},
   "outputs": [
    {
     "name": "stdout",
     "output_type": "stream",
     "text": [
      "Train on 2644765 samples\n",
      "Epoch 1/50\n",
      "2644765/2644765 [==============================] - 28s 11us/sample - loss: 0.5583 - acc: 0.9282\n",
      "Epoch 2/50\n",
      "2644765/2644765 [==============================] - 22s 8us/sample - loss: 0.5563 - acc: 0.9293\n",
      "Epoch 3/50\n",
      "2644765/2644765 [==============================] - 22s 8us/sample - loss: 0.5556 - acc: 0.9296\n",
      "Epoch 4/50\n",
      "2644765/2644765 [==============================] - 22s 8us/sample - loss: 0.5560 - acc: 0.9293\n",
      "Epoch 5/50\n",
      "2644765/2644765 [==============================] - 22s 8us/sample - loss: 0.5556 - acc: 0.9296\n",
      "Epoch 6/50\n",
      "2644765/2644765 [==============================] - 22s 8us/sample - loss: 0.5555 - acc: 0.9293\n",
      "Epoch 7/50\n",
      "2644765/2644765 [==============================] - 22s 8us/sample - loss: 0.5556 - acc: 0.9293\n",
      "Epoch 8/50\n",
      "2644765/2644765 [==============================] - 22s 8us/sample - loss: 0.5555 - acc: 0.9292\n",
      "Epoch 9/50\n",
      "2644765/2644765 [==============================] - 22s 8us/sample - loss: 0.5557 - acc: 0.9293\n",
      "Epoch 10/50\n",
      "2644765/2644765 [==============================] - 22s 8us/sample - loss: 0.5554 - acc: 0.9295\n",
      "Epoch 11/50\n",
      "2644765/2644765 [==============================] - 22s 8us/sample - loss: 0.5554 - acc: 0.9295\n",
      "Epoch 12/50\n",
      "2644765/2644765 [==============================] - 22s 8us/sample - loss: 0.5555 - acc: 0.9297\n",
      "Epoch 13/50\n",
      "2644765/2644765 [==============================] - 22s 8us/sample - loss: 0.5554 - acc: 0.9295\n",
      "Epoch 14/50\n",
      "2644765/2644765 [==============================] - 22s 8us/sample - loss: 0.5555 - acc: 0.9297\n",
      "Epoch 15/50\n",
      "2644765/2644765 [==============================] - 22s 8us/sample - loss: 0.5553 - acc: 0.9297\n",
      "Epoch 16/50\n",
      "2644765/2644765 [==============================] - 22s 8us/sample - loss: 0.5554 - acc: 0.9295\n",
      "Epoch 17/50\n",
      "2644765/2644765 [==============================] - 22s 8us/sample - loss: 0.5550 - acc: 0.9297\n",
      "Epoch 18/50\n",
      "2644765/2644765 [==============================] - 22s 8us/sample - loss: 0.5551 - acc: 0.9297\n",
      "Epoch 19/50\n",
      "2644765/2644765 [==============================] - 22s 8us/sample - loss: 0.5552 - acc: 0.9296\n",
      "Epoch 20/50\n",
      "2644765/2644765 [==============================] - 22s 8us/sample - loss: 0.5551 - acc: 0.9300\n",
      "Epoch 21/50\n",
      "2644765/2644765 [==============================] - 22s 8us/sample - loss: 0.5553 - acc: 0.9298\n",
      "Epoch 22/50\n",
      "2644765/2644765 [==============================] - 22s 8us/sample - loss: 0.5553 - acc: 0.9298\n",
      "Epoch 23/50\n",
      "2644765/2644765 [==============================] - 22s 8us/sample - loss: 0.5549 - acc: 0.9297\n",
      "Epoch 24/50\n",
      "2644765/2644765 [==============================] - 22s 8us/sample - loss: 0.5553 - acc: 0.9296\n",
      "Epoch 25/50\n",
      "2644765/2644765 [==============================] - 22s 8us/sample - loss: 0.5551 - acc: 0.9295\n",
      "Epoch 26/50\n",
      "2644765/2644765 [==============================] - 22s 8us/sample - loss: 0.5551 - acc: 0.9296\n",
      "Epoch 27/50\n",
      "2644765/2644765 [==============================] - 22s 8us/sample - loss: 0.5552 - acc: 0.9293\n",
      "Epoch 28/50\n",
      "2644765/2644765 [==============================] - 22s 8us/sample - loss: 0.5551 - acc: 0.9298\n",
      "Epoch 29/50\n",
      "2644765/2644765 [==============================] - 22s 8us/sample - loss: 0.5551 - acc: 0.9299\n",
      "Epoch 30/50\n",
      "2644765/2644765 [==============================] - 23s 9us/sample - loss: 0.5551 - acc: 0.9298\n",
      "Epoch 31/50\n",
      "2644765/2644765 [==============================] - 22s 8us/sample - loss: 0.5549 - acc: 0.9294\n",
      "Epoch 32/50\n",
      "2644765/2644765 [==============================] - 23s 9us/sample - loss: 0.5551 - acc: 0.9297\n",
      "Epoch 33/50\n",
      "2644765/2644765 [==============================] - 22s 8us/sample - loss: 0.5554 - acc: 0.9297\n",
      "Epoch 34/50\n",
      "2644765/2644765 [==============================] - 22s 8us/sample - loss: 0.5548 - acc: 0.9301\n",
      "Epoch 35/50\n",
      "2644765/2644765 [==============================] - 22s 8us/sample - loss: 0.5550 - acc: 0.9297\n",
      "Epoch 36/50\n",
      "2644765/2644765 [==============================] - 22s 8us/sample - loss: 0.5550 - acc: 0.9303\n",
      "Epoch 37/50\n",
      "2644765/2644765 [==============================] - 22s 8us/sample - loss: 0.5551 - acc: 0.9296\n",
      "Epoch 38/50\n",
      "2644765/2644765 [==============================] - 23s 9us/sample - loss: 0.5548 - acc: 0.9300\n",
      "Epoch 39/50\n",
      "2644765/2644765 [==============================] - 22s 8us/sample - loss: 0.5551 - acc: 0.9297\n",
      "Epoch 40/50\n",
      "2644765/2644765 [==============================] - 22s 8us/sample - loss: 0.5550 - acc: 0.9297\n",
      "Epoch 41/50\n",
      "2644765/2644765 [==============================] - 23s 9us/sample - loss: 0.5551 - acc: 0.9299\n",
      "Epoch 42/50\n",
      "2644765/2644765 [==============================] - 22s 8us/sample - loss: 0.5548 - acc: 0.9298\n",
      "Epoch 43/50\n",
      "2644765/2644765 [==============================] - 23s 9us/sample - loss: 0.5551 - acc: 0.9295\n",
      "Epoch 44/50\n",
      "2644765/2644765 [==============================] - 23s 9us/sample - loss: 0.5548 - acc: 0.9297\n",
      "Epoch 45/50\n",
      "2644765/2644765 [==============================] - 23s 9us/sample - loss: 0.5550 - acc: 0.9298\n",
      "Epoch 46/50\n",
      "2644765/2644765 [==============================] - 23s 9us/sample - loss: 0.5548 - acc: 0.9299\n",
      "Epoch 47/50\n",
      "2644765/2644765 [==============================] - 22s 8us/sample - loss: 0.5551 - acc: 0.9296\n",
      "Epoch 48/50\n",
      "2644765/2644765 [==============================] - 22s 9us/sample - loss: 0.5549 - acc: 0.9297\n",
      "Epoch 49/50\n",
      "2644765/2644765 [==============================] - 23s 9us/sample - loss: 0.5548 - acc: 0.9301\n",
      "Epoch 50/50\n",
      "2644765/2644765 [==============================] - 22s 8us/sample - loss: 0.5550 - acc: 0.9298\n",
      "100/100 [==============================] - 0s 2ms/sample - loss: 0.5010 - acc: 0.9700\n"
     ]
    }
   ],
   "source": [
    "from keras.preprocessing.image import ImageDataGenerator\n",
    "import time\n",
    "\n",
    "use_generator = False\n",
    "batch_size = 32 * 1024\n",
    "\n",
    "gen = ImageDataGenerator(\n",
    "        width_shift_range=0, \n",
    "        height_shift_range=0, \n",
    "        zoom_range=0.1, \n",
    "        horizontal_flip=False)\n",
    "        #rotation_range=10,\n",
    "        #brightness_range=[0.5, 1.0])\n",
    "\n",
    "for i in range(1):    \n",
    "    if use_generator:        \n",
    "        model.cnn.fit_generator(gen.flow(\n",
    "            train_xy[0], train_xy[1],\n",
    "            batch_size=batch_size, shuffle=True), epochs=1, workers=24, steps_per_epoch=len(x_train) / batch_size)\n",
    "    else:\n",
    "        model.cnn.fit(\n",
    "            train_xy[0], train_xy[1],\n",
    "            epochs=50,\n",
    "            batch_size=batch_size)\n",
    "        \n",
    "    loss_acc = model.cnn.evaluate(test_xy[0], test_xy[1],batch_size=batch_size)    \n",
    "    model.save_weights(\"acc\" + str(loss_acc[1]))"
   ]
  },
  {
   "cell_type": "code",
   "execution_count": 7,
   "metadata": {},
   "outputs": [
    {
     "name": "stdout",
     "output_type": "stream",
     "text": [
      "correct: True; expected: (9, 8) (0.82, 0.18); predicted: (9, 8) (0.85, 0.15)\n",
      "correct: True; expected: (4, 5) (0.62, 0.38); predicted: (4, 5) (0.58, 0.42)\n",
      "skip\n",
      "skip\n",
      "correct: True; expected: (0, 1) (0.88, 0.12); predicted: (0, 1) (0.82, 0.18)\n",
      "correct: True; expected: (3, 2) (0.68, 0.32); predicted: (3, 2) (0.64, 0.36)\n",
      "correct: True; expected: (4, 3) (0.65, 0.35); predicted: (4, 3) (0.62, 0.38)\n",
      "correct: True; expected: (8, 9) (0.93, 0.07); predicted: (8, 9) (0.93, 0.07)\n",
      "correct: True; expected: (2, 3) (0.67, 0.33); predicted: (2, 3) (0.69, 0.31)\n",
      "correct: True; expected: (9, 0) (1.0, 0.0); predicted: (9, 0) (0.99, 0.01)\n",
      "correct: True; expected: (4, 3) (0.77, 0.23); predicted: (4, 3) (0.76, 0.24)\n",
      "correct: True; expected: (6, 7) (0.92, 0.08); predicted: (6, 7) (0.92, 0.08)\n",
      "correct: True; expected: (7, 8) (0.85, 0.15); predicted: (7, 8) (0.8, 0.2)\n",
      "skip\n",
      "correct: True; expected: (9, 0) (0.97, 0.03); predicted: (9, 0) (0.99, 0.01)\n",
      "correct: True; expected: (5, 6) (0.88, 0.12); predicted: (5, 6) (0.85, 0.15)\n",
      "correct: True; expected: (9, 0) (0.75, 0.25); predicted: (9, 0) (0.77, 0.23)\n",
      "correct: True; expected: (6, 5) (0.9, 0.1); predicted: (6, 5) (0.91, 0.09)\n",
      "correct: True; expected: (5, 4) (0.88, 0.12); predicted: (5, 4) (0.88, 0.12)\n",
      "skip\n",
      "correct: True; expected: (8, 7) (0.95, 0.05); predicted: (8, 7) (0.94, 0.06)\n",
      "correct: True; expected: (2, 1) (0.82, 0.18); predicted: (2, 1) (0.86, 0.14)\n",
      "correct: True; expected: (4, 3) (0.95, 0.05); predicted: (4, 3) (0.95, 0.05)\n",
      "correct: True; expected: (9, 8) (0.77, 0.23); predicted: (9, 8) (0.8, 0.2)\n",
      "skip\n",
      "correct: True; expected: (0, 1) (0.65, 0.35); predicted: (0, 1) (0.58, 0.42)\n",
      "correct: True; expected: (2, 1) (0.88, 0.12); predicted: (2, 1) (0.88, 0.12)\n",
      "correct: True; expected: (1, 0) (0.88, 0.12); predicted: (1, 0) (0.86, 0.14)\n",
      "skip\n",
      "skip\n",
      "correct: True; expected: (6, 5) (0.67, 0.33); predicted: (6, 5) (0.68, 0.32)\n",
      "correct: True; expected: (8, 9) (0.9, 0.1); predicted: (8, 9) (0.91, 0.09)\n",
      "correct: True; expected: (3, 2) (0.9, 0.1); predicted: (3, 2) (0.9, 0.1)\n",
      "correct: True; expected: (6, 5) (0.95, 0.05); predicted: (6, 5) (0.93, 0.07)\n",
      "skip\n",
      "correct: True; expected: (7, 6) (0.8, 0.2); predicted: (7, 6) (0.82, 0.18)\n",
      "skip\n",
      "skip\n",
      "correct: True; expected: (0, 1) (0.78, 0.22); predicted: (0, 1) (0.74, 0.26)\n",
      "correct: True; expected: (9, 0) (0.68, 0.32); predicted: (9, 0) (0.67, 0.33)\n",
      "correct: True; expected: (8, 9) (0.72, 0.28); predicted: (8, 9) (0.75, 0.25)\n",
      "correct: True; expected: (8, 9) (0.72, 0.28); predicted: (8, 9) (0.69, 0.31)\n",
      "correct: True; expected: (8, 7) (0.82, 0.18); predicted: (8, 7) (0.8, 0.2)\n",
      "correct: True; expected: (0, 9) (0.95, 0.05); predicted: (0, 9) (0.94, 0.06)\n",
      "correct: True; expected: (1, 2) (0.95, 0.05); predicted: (1, 2) (0.93, 0.07)\n",
      "correct: True; expected: (4, 3) (0.8, 0.2); predicted: (4, 3) (0.78, 0.22)\n",
      "correct: True; expected: (4, 3) (0.88, 0.12); predicted: (4, 3) (0.83, 0.17)\n",
      "correct: True; expected: (6, 7) (0.73, 0.27); predicted: (6, 7) (0.66, 0.34)\n",
      "skip\n",
      "skip\n",
      "correct: True; expected: (6, 7) (0.9, 0.1); predicted: (6, 7) (0.91, 0.09)\n",
      "correct: True; expected: (3, 2) (0.82, 0.18); predicted: (3, 2) (0.79, 0.21)\n",
      "correct: True; expected: (4, 5) (0.97, 0.03); predicted: (4, 5) (0.99, 0.01)\n",
      "correct: True; expected: (4, 3) (0.93, 0.07); predicted: (4, 3) (0.93, 0.07)\n",
      "correct: True; expected: (5, 4) (0.72, 0.28); predicted: (5, 4) (0.71, 0.29)\n",
      "correct: True; expected: (3, 2) (0.7, 0.3); predicted: (3, 2) (0.65, 0.35)\n",
      "correct: True; expected: (4, 5) (0.93, 0.07); predicted: (4, 5) (0.92, 0.08)\n",
      "correct: True; expected: (1, 0) (0.93, 0.07); predicted: (1, 0) (0.89, 0.11)\n",
      "correct: True; expected: (3, 4) (0.77, 0.23); predicted: (3, 4) (0.74, 0.26)\n",
      "correct: True; expected: (4, 5) (0.75, 0.25); predicted: (4, 5) (0.7, 0.3)\n",
      "correct: True; expected: (2, 1) (0.65, 0.35); predicted: (2, 1) (0.67, 0.33)\n",
      "correct: True; expected: (7, 6) (0.65, 0.35); predicted: (7, 6) (0.67, 0.33)\n",
      "correct: True; expected: (9, 8) (0.82, 0.18); predicted: (9, 8) (0.86, 0.14)\n",
      "correct: True; expected: (1, 0) (0.7, 0.3); predicted: (1, 0) (0.66, 0.34)\n",
      "correct: True; expected: (7, 6) (0.78, 0.22); predicted: (7, 6) (0.79, 0.21)\n",
      "correct: True; expected: (3, 4) (0.95, 0.05); predicted: (3, 4) (0.94, 0.06)\n",
      "correct: True; expected: (0, 9) (0.88, 0.12); predicted: (0, 9) (0.9, 0.1)\n",
      "correct: True; expected: (0, 1) (0.8, 0.2); predicted: (0, 1) (0.76, 0.24)\n",
      "correct: True; expected: (3, 2) (0.65, 0.35); predicted: (3, 2) (0.61, 0.39)\n",
      "correct: True; expected: (7, 8) (0.82, 0.18); predicted: (7, 8) (0.78, 0.22)\n",
      "correct: True; expected: (5, 4) (0.68, 0.32); predicted: (5, 4) (0.69, 0.31)\n",
      "correct: True; expected: (9, 8) (0.8, 0.2); predicted: (9, 8) (0.82, 0.18)\n",
      "correct: True; expected: (7, 6) (0.9, 0.1); predicted: (7, 6) (0.93, 0.07)\n",
      "correct: True; expected: (5, 6) (0.85, 0.15); predicted: (5, 6) (0.84, 0.16)\n",
      "correct: True; expected: (2, 1) (0.77, 0.23); predicted: (2, 1) (0.78, 0.22)\n",
      "correct: True; expected: (3, 4) (0.95, 0.05); predicted: (3, 4) (0.97, 0.03)\n",
      "correct: True; expected: (9, 8) (0.62, 0.38); predicted: (9, 8) (0.63, 0.37)\n",
      "skip\n",
      "skip\n",
      "skip\n",
      "correct: True; expected: (0, 9) (0.85, 0.15); predicted: (0, 9) (0.83, 0.17)\n",
      "correct: True; expected: (1, 2) (0.62, 0.38); predicted: (1, 2) (0.57, 0.43)\n",
      "correct: True; expected: (6, 7) (0.88, 0.12); predicted: (6, 7) (0.87, 0.13)\n",
      "correct: True; expected: (4, 0) (1.0, 0.0); predicted: (4, 3) (0.99, 0.01)\n",
      "correct: True; expected: (9, 8) (0.7, 0.3); predicted: (9, 8) (0.73, 0.27)\n",
      "correct: True; expected: (9, 0) (0.85, 0.15); predicted: (9, 0) (0.82, 0.18)\n",
      "skip\n",
      "correct: True; expected: (0, 1) (0.88, 0.12); predicted: (0, 1) (0.9, 0.1)\n",
      "correct: True; expected: (9, 0) (0.8, 0.2); predicted: (9, 0) (0.79, 0.21)\n",
      "skip\n",
      "correct: True; expected: (2, 3) (0.77, 0.23); predicted: (2, 3) (0.76, 0.24)\n",
      "correct: True; expected: (1, 2) (0.83, 0.17); predicted: (1, 2) (0.78, 0.22)\n",
      "correct: True; expected: (9, 0) (1.0, 0.0); predicted: (9, 0) (1.0, 0.0)\n",
      "correct: True; expected: (2, 1) (0.75, 0.25); predicted: (2, 1) (0.75, 0.25)\n",
      "correct: True; expected: (6, 7) (0.85, 0.15); predicted: (6, 7) (0.82, 0.18)\n",
      "correct: True; expected: (7, 8) (0.65, 0.35); predicted: (7, 8) (0.64, 0.36)\n",
      "correct: True; expected: (5, 6) (0.62, 0.38); predicted: (5, 6) (0.6, 0.4)\n",
      "correct: True; expected: (2, 3) (0.95, 0.05); predicted: (2, 3) (0.95, 0.05)\n",
      "correct: True; expected: (5, 6) (0.7, 0.3); predicted: (5, 6) (0.69, 0.31)\n",
      "skip\n"
     ]
    }
   ],
   "source": [
    "def argmax2(arr):\n",
    "    idx0 = 0\n",
    "    last_max = 0.0\n",
    "    for i in range(len(arr)):\n",
    "        if arr[i] > last_max:\n",
    "            last_max = arr[i]\n",
    "            idx0 = i    \n",
    "    idx1 = 0\n",
    "    last_max = 0.0\n",
    "    for i in range(len(arr)):\n",
    "        if i != idx0 and arr[i] > last_max:\n",
    "            last_max = arr[i]\n",
    "            idx1 = i\n",
    "    return (idx0, idx1)\n",
    "\n",
    "def confidence(arr, pred):\n",
    "    conv0 = arr[pred[0]]\n",
    "    conv1 = arr[pred[1]]\n",
    "    return (round(conv0, 2), round(conv1, 2))\n",
    "\n",
    "def predict(img):\n",
    "    result = model.predict(img)\n",
    "    pred = argmax2(result)\n",
    "    return (pred, confidence(result, pred))\n",
    "\n",
    "def predict_test(idx):\n",
    "    result = predict(test_set[idx].image)\n",
    "    pred = result[0]\n",
    "    conf = result[1]\n",
    "    expect = argmax2(test_set[idx].y)\n",
    "    expect_conf = confidence(test_set[idx].y, expect)\n",
    "    if expect_conf[0] > 0.6:\n",
    "        correct = expect[0] == pred[0]\n",
    "        print(\"correct: \" + str(correct) + \n",
    "              \"; expected: \" + str(expect) + \" \" + str(expect_conf) +\n",
    "              \"; predicted: \" + str(pred) + \" \" + str(conf))\n",
    "        if not correct: # or convidence < 0.9:\n",
    "            test_set[idx].show()\n",
    "            #plt.imshow(x_test[idx])\n",
    "            #plt.show()\n",
    "    else:\n",
    "        print(\"skip\")\n",
    "for i in range(len(test_set)):\n",
    "    predict_test(i)"
   ]
  },
  {
   "cell_type": "code",
   "execution_count": null,
   "metadata": {},
   "outputs": [],
   "source": [
    "model.export_as_tflite()"
   ]
  },
  {
   "cell_type": "code",
   "execution_count": null,
   "metadata": {},
   "outputs": [],
   "source": []
  },
  {
   "cell_type": "code",
   "execution_count": null,
   "metadata": {},
   "outputs": [],
   "source": []
  }
 ],
 "metadata": {
  "kernelspec": {
   "display_name": "Python 3",
   "language": "python",
   "name": "python3"
  },
  "language_info": {
   "codemirror_mode": {
    "name": "ipython",
    "version": 3
   },
   "file_extension": ".py",
   "mimetype": "text/x-python",
   "name": "python",
   "nbconvert_exporter": "python",
   "pygments_lexer": "ipython3",
   "version": "3.7.3"
  }
 },
 "nbformat": 4,
 "nbformat_minor": 4
}
